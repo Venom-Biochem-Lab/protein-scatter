{
 "cells": [
  {
   "cell_type": "code",
   "execution_count": 92,
   "id": "7530a35d-6865-46c5-97fb-30bb4510e11e",
   "metadata": {
    "tags": []
   },
   "outputs": [],
   "source": [
    "import pandas as pd\n",
    "import numpy as np\n",
    "import torch\n",
    "import embed\n",
    "import math"
   ]
  },
  {
   "cell_type": "code",
   "execution_count": 107,
   "id": "1bea7be9-1c01-46f6-935c-45906fe9e078",
   "metadata": {
    "tags": []
   },
   "outputs": [],
   "source": [
    "dfpdb = pd.read_parquet(\"./datasets/pdb-no-model-no-asm.parquet\")"
   ]
  },
  {
   "cell_type": "code",
   "execution_count": 111,
   "id": "23c42e88-c7e7-43ec-bf26-132a42d7c90d",
   "metadata": {
    "tags": []
   },
   "outputs": [],
   "source": [
    "dfpdb = dfpdb.drop_duplicates(\"AA\")"
   ]
  },
  {
   "cell_type": "code",
   "execution_count": 112,
   "id": "4b2cacb6-0c0b-4eab-ad56-9945b57d5c6c",
   "metadata": {
    "tags": []
   },
   "outputs": [],
   "source": [
    "def num_embeddings(df):\n",
    "    return df[\"3Di\"].apply(lambda x: math.ceil(len(x)/128)).sum()"
   ]
  },
  {
   "cell_type": "code",
   "execution_count": 113,
   "id": "78f3d33d-0e0a-4e8f-afad-1d6d3953e4f9",
   "metadata": {
    "tags": []
   },
   "outputs": [
    {
     "data": {
      "text/plain": [
       "382511"
      ]
     },
     "execution_count": 113,
     "metadata": {},
     "output_type": "execute_result"
    }
   ],
   "source": [
    "num_embeddings(dfpdb)"
   ]
  },
  {
   "cell_type": "code",
   "execution_count": 114,
   "id": "1a534b3c-157f-40bf-a7cc-81306bb77f8b",
   "metadata": {
    "tags": []
   },
   "outputs": [],
   "source": [
    "embed_len = dfpdb[\"3Di\"].apply(lambda x: math.ceil(len(x)/128))\n",
    "_len = dfpdb[\"3Di\"].apply(lambda x: len(x))\n"
   ]
  },
  {
   "cell_type": "code",
   "execution_count": 126,
   "id": "8288bfbe-c7ae-4c69-86c6-675abb1d97e8",
   "metadata": {
    "tags": []
   },
   "outputs": [],
   "source": [
    "sub = dfpdb[(_len >= 100) & (_len <= 128*4)].copy()\n",
    "num_embeddings(sub)\n",
    "sub[\"len\"] = sub[\"3Di\"].apply(lambda x: len(x))"
   ]
  },
  {
   "cell_type": "code",
   "execution_count": 118,
   "id": "e3269925-b024-4787-b3b6-7fc79f7f2efa",
   "metadata": {
    "tags": []
   },
   "outputs": [],
   "source": [
    "device=\"cuda\"\n",
    "model = embed.load_model(\"./checkpoint-large-3.pt\", device)\n",
    "model = model.eval().to(device)"
   ]
  },
  {
   "cell_type": "code",
   "execution_count": 133,
   "id": "6de4453f-95e1-4d82-9287-4c189c4f81b0",
   "metadata": {
    "tags": []
   },
   "outputs": [
    {
     "name": "stderr",
     "output_type": "stream",
     "text": [
      "100%|██████████| 3503/3503 [05:11<00:00, 11.26it/s]\n"
     ]
    }
   ],
   "source": [
    "emebds, names = embed.to_embeddings_fast(sub, model, 256, device)"
   ]
  },
  {
   "cell_type": "code",
   "execution_count": 135,
   "id": "b374b14d-ccf1-4de4-80e0-f421cb1f1045",
   "metadata": {
    "tags": []
   },
   "outputs": [],
   "source": [
    "pd.DataFrame({\"embed\": emebds, \"name\": names}).to_parquet(\"embed-sub.parquet\", index=False)"
   ]
  },
  {
   "cell_type": "code",
   "execution_count": 136,
   "id": "0b56a19e-f56c-4595-844c-baefb1b2d8e3",
   "metadata": {
    "tags": []
   },
   "outputs": [],
   "source": [
    "dfv = pd.read_parquet(\"./datasets/all-venome.parquet\")"
   ]
  },
  {
   "cell_type": "code",
   "execution_count": 137,
   "id": "f8dcc128-df71-422f-b863-a270b7ff239c",
   "metadata": {
    "tags": []
   },
   "outputs": [
    {
     "name": "stderr",
     "output_type": "stream",
     "text": [
      "100%|██████████| 282/282 [00:07<00:00, 38.17it/s]\n"
     ]
    }
   ],
   "source": [
    "emebds, names = embed.to_embeddings_fast(dfv, model, 256, device)"
   ]
  },
  {
   "cell_type": "code",
   "execution_count": 138,
   "id": "3b24926a-6b4b-4914-a188-6f55a6893ac1",
   "metadata": {
    "tags": []
   },
   "outputs": [],
   "source": [
    "pd.DataFrame({\"embed\": emebds, \"name\": names}).to_parquet(\"embed-venome.parquet\", index=False)"
   ]
  },
  {
   "cell_type": "code",
   "execution_count": null,
   "id": "e7c596dc-8efe-405a-9483-8d191b24dcbc",
   "metadata": {},
   "outputs": [],
   "source": []
  }
 ],
 "metadata": {
  "kernelspec": {
   "display_name": "Python 3 (ipykernel)",
   "language": "python",
   "name": "python3"
  },
  "language_info": {
   "codemirror_mode": {
    "name": "ipython",
    "version": 3
   },
   "file_extension": ".py",
   "mimetype": "text/x-python",
   "name": "python",
   "nbconvert_exporter": "python",
   "pygments_lexer": "ipython3",
   "version": "3.11.8"
  }
 },
 "nbformat": 4,
 "nbformat_minor": 5
}
