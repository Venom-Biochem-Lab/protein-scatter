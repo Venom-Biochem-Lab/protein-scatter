{
 "cells": [
  {
   "cell_type": "code",
   "execution_count": 1,
   "metadata": {},
   "outputs": [],
   "source": [
    "import pandas as pd"
   ]
  },
  {
   "cell_type": "code",
   "execution_count": 2,
   "metadata": {},
   "outputs": [],
   "source": [
    "df = pd.read_parquet(\"../website/backend/data/embed-sub-venome-2D-8.parquet\")"
   ]
  },
  {
   "cell_type": "code",
   "execution_count": 3,
   "metadata": {},
   "outputs": [
    {
     "data": {
      "text/html": [
       "<div>\n",
       "<style scoped>\n",
       "    .dataframe tbody tr th:only-of-type {\n",
       "        vertical-align: middle;\n",
       "    }\n",
       "\n",
       "    .dataframe tbody tr th {\n",
       "        vertical-align: top;\n",
       "    }\n",
       "\n",
       "    .dataframe thead th {\n",
       "        text-align: right;\n",
       "    }\n",
       "</style>\n",
       "<table border=\"1\" class=\"dataframe\">\n",
       "  <thead>\n",
       "    <tr style=\"text-align: right;\">\n",
       "      <th></th>\n",
       "      <th>name</th>\n",
       "      <th>x</th>\n",
       "      <th>y</th>\n",
       "    </tr>\n",
       "  </thead>\n",
       "  <tbody>\n",
       "    <tr>\n",
       "      <th>0</th>\n",
       "      <td>pdb1a5k.ent.gz_A</td>\n",
       "      <td>3.550168</td>\n",
       "      <td>-0.774960</td>\n",
       "    </tr>\n",
       "    <tr>\n",
       "      <th>1</th>\n",
       "      <td>pdb1avz.ent.gz_A</td>\n",
       "      <td>3.431394</td>\n",
       "      <td>-3.226690</td>\n",
       "    </tr>\n",
       "    <tr>\n",
       "      <th>2</th>\n",
       "      <td>pdb1ayb.ent.gz_A</td>\n",
       "      <td>-0.010471</td>\n",
       "      <td>-0.011973</td>\n",
       "    </tr>\n",
       "    <tr>\n",
       "      <th>3</th>\n",
       "      <td>pdb1c7m.ent.gz_MODEL_1_A</td>\n",
       "      <td>2.745709</td>\n",
       "      <td>-5.214051</td>\n",
       "    </tr>\n",
       "    <tr>\n",
       "      <th>4</th>\n",
       "      <td>pdb1dbd.ent.gz_A</td>\n",
       "      <td>1.480514</td>\n",
       "      <td>-0.238307</td>\n",
       "    </tr>\n",
       "    <tr>\n",
       "      <th>...</th>\n",
       "      <td>...</td>\n",
       "      <td>...</td>\n",
       "      <td>...</td>\n",
       "    </tr>\n",
       "    <tr>\n",
       "      <th>271679</th>\n",
       "      <td>Gh_comp1523_c0_seq1.pdb</td>\n",
       "      <td>0.247421</td>\n",
       "      <td>3.300046</td>\n",
       "    </tr>\n",
       "    <tr>\n",
       "      <th>271680</th>\n",
       "      <td>Gh_comp1523_c0_seq1.pdb</td>\n",
       "      <td>1.511452</td>\n",
       "      <td>-2.213456</td>\n",
       "    </tr>\n",
       "    <tr>\n",
       "      <th>271681</th>\n",
       "      <td>Gh_comp1523_c0_seq1.pdb</td>\n",
       "      <td>-1.212144</td>\n",
       "      <td>2.765270</td>\n",
       "    </tr>\n",
       "    <tr>\n",
       "      <th>271682</th>\n",
       "      <td>Gh_comp1523_c0_seq1.pdb</td>\n",
       "      <td>-0.558069</td>\n",
       "      <td>3.197020</td>\n",
       "    </tr>\n",
       "    <tr>\n",
       "      <th>271683</th>\n",
       "      <td>Gh_comp1523_c0_seq1.pdb</td>\n",
       "      <td>1.887664</td>\n",
       "      <td>-1.637877</td>\n",
       "    </tr>\n",
       "  </tbody>\n",
       "</table>\n",
       "<p>271684 rows × 3 columns</p>\n",
       "</div>"
      ],
      "text/plain": [
       "                            name         x         y\n",
       "0               pdb1a5k.ent.gz_A  3.550168 -0.774960\n",
       "1               pdb1avz.ent.gz_A  3.431394 -3.226690\n",
       "2               pdb1ayb.ent.gz_A -0.010471 -0.011973\n",
       "3       pdb1c7m.ent.gz_MODEL_1_A  2.745709 -5.214051\n",
       "4               pdb1dbd.ent.gz_A  1.480514 -0.238307\n",
       "...                          ...       ...       ...\n",
       "271679   Gh_comp1523_c0_seq1.pdb  0.247421  3.300046\n",
       "271680   Gh_comp1523_c0_seq1.pdb  1.511452 -2.213456\n",
       "271681   Gh_comp1523_c0_seq1.pdb -1.212144  2.765270\n",
       "271682   Gh_comp1523_c0_seq1.pdb -0.558069  3.197020\n",
       "271683   Gh_comp1523_c0_seq1.pdb  1.887664 -1.637877\n",
       "\n",
       "[271684 rows x 3 columns]"
      ]
     },
     "execution_count": 3,
     "metadata": {},
     "output_type": "execute_result"
    }
   ],
   "source": [
    "df"
   ]
  },
  {
   "cell_type": "code",
   "execution_count": 5,
   "metadata": {},
   "outputs": [
    {
     "data": {
      "text/plain": [
       "271684"
      ]
     },
     "execution_count": 5,
     "metadata": {},
     "output_type": "execute_result"
    }
   ],
   "source": [
    "len(df[\"name\"])"
   ]
  },
  {
   "cell_type": "code",
   "execution_count": null,
   "metadata": {},
   "outputs": [],
   "source": []
  }
 ],
 "metadata": {
  "kernelspec": {
   "display_name": "Python 3",
   "language": "python",
   "name": "python3"
  },
  "language_info": {
   "codemirror_mode": {
    "name": "ipython",
    "version": 3
   },
   "file_extension": ".py",
   "mimetype": "text/x-python",
   "name": "python",
   "nbconvert_exporter": "python",
   "pygments_lexer": "ipython3",
   "version": "3.10.13"
  }
 },
 "nbformat": 4,
 "nbformat_minor": 2
}
