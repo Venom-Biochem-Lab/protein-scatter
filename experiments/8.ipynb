{
 "cells": [
  {
   "cell_type": "code",
   "execution_count": 2,
   "metadata": {},
   "outputs": [],
   "source": [
    "with open(\"../pdb2\", \"r\") as infile:\n",
    "\tdata = infile.readlines()"
   ]
  },
  {
   "cell_type": "code",
   "execution_count": 4,
   "metadata": {},
   "outputs": [],
   "source": [
    "parsed = []\n",
    "for d in data:\n",
    "\tparsed.append(d.strip(\"\\x00\").rstrip(\"\\n\"))"
   ]
  },
  {
   "cell_type": "code",
   "execution_count": 11,
   "metadata": {},
   "outputs": [
    {
     "name": "stdout",
     "output_type": "stream",
     "text": [
      "GSSGSSGQALASDSEEADEVPEWLREGEFVTVGAHKTGVVRYVGPADFQEGTWVGVELDLPSGKNDGSIGGKQYFRCNPGYGLLVRPSRVRRATSGPSSG at 119903\n"
     ]
    }
   ],
   "source": [
    "for i, p in enumerate(parsed):\n",
    "\tif p == \"GSSGSSGQALASDSEEADEVPEWLREGEFVTVGAHKTGVVRYVGPADFQEGTWVGVELDLPSGKNDGSIGGKQYFRCNPGYGLLVRPSRVRRATSGPSSG\":\n",
    "\t\tprint(p, \"at\", i)\n",
    "\t\t"
   ]
  },
  {
   "cell_type": "code",
   "execution_count": null,
   "metadata": {},
   "outputs": [],
   "source": [
    "# 2cow"
   ]
  }
 ],
 "metadata": {
  "kernelspec": {
   "display_name": "Python 3",
   "language": "python",
   "name": "python3"
  },
  "language_info": {
   "codemirror_mode": {
    "name": "ipython",
    "version": 3
   },
   "file_extension": ".py",
   "mimetype": "text/x-python",
   "name": "python",
   "nbconvert_exporter": "python",
   "pygments_lexer": "ipython3",
   "version": "3.11.7"
  }
 },
 "nbformat": 4,
 "nbformat_minor": 2
}
