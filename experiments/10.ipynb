{
 "cells": [
  {
   "cell_type": "markdown",
   "metadata": {},
   "source": [
    "Alot of this code comes from but is revised from\n",
    "- nanogpt-lecture: [Andrej Karpathy, Github ng-video-lecture]( https://github.com/karpathy/ng-video-lecture?tab=readme-ov-file )"
   ]
  },
  {
   "cell_type": "code",
   "execution_count": 1,
   "metadata": {},
   "outputs": [
    {
     "data": {
      "text/plain": [
       "'2.2.1'"
      ]
     },
     "execution_count": 1,
     "metadata": {},
     "output_type": "execute_result"
    }
   ],
   "source": [
    "import torch\n",
    "import torch.nn as nn\n",
    "from torch.nn import functional as F\n",
    "import math\n",
    "torch.__version__"
   ]
  },
  {
   "cell_type": "code",
   "execution_count": 2,
   "metadata": {},
   "outputs": [],
   "source": [
    "import pandas as pd\n",
    "import data_process as dp\n",
    "\n",
    "dp.pdb_to_3Di_csv(\"../data\", \"./data.csv\")\n",
    "df = pd.read_csv(\"./data.csv\")"
   ]
  },
  {
   "cell_type": "code",
   "execution_count": 3,
   "metadata": {},
   "outputs": [],
   "source": [
    "train, val = dp.get_train_val_split(df[\"3Di\"].tolist(), ratio=0.9)"
   ]
  },
  {
   "cell_type": "code",
   "execution_count": 28,
   "metadata": {},
   "outputs": [],
   "source": [
    "\n",
    "batch_size = 16 # how many independent sequences will we process in parallel?\n",
    "block_size = 32 # what is the maximum context length for predictions?\n",
    "vocab_size = 20\n",
    "max_iters = 2000\n",
    "eval_interval = 100\n",
    "learning_rate = 1e-3\n",
    "device = 'cuda' if torch.cuda.is_available() else 'cpu'\n",
    "eval_iters = 200\n",
    "\n",
    "@torch.no_grad()\n",
    "def estimate_loss(model):\n",
    "    out = {}\n",
    "    model.eval()\n",
    "    for split in ['train', 'val']:\n",
    "        losses = torch.zeros(eval_iters)\n",
    "        for k in range(eval_iters):\n",
    "            X, Y = dp.get_batch(train if split == \"train\" else val, batch_size=batch_size, block_size=block_size, device=device)\n",
    "            logits, loss = model(X, Y)\n",
    "            losses[k] = loss.item()\n",
    "        out[split] = losses.mean()\n",
    "    model.train()\n",
    "    return out\n",
    "\n",
    "\n",
    "class CausalSelfAttention(nn.Module):\n",
    "    def __init__(self, n_embd, n_head, bias, dropout):\n",
    "        super().__init__()\n",
    "        assert n_embd % n_head == 0\n",
    "        # key, query, value projections for all heads, but in a batch\n",
    "        self.c_attn = nn.Linear(n_embd, 3 * n_embd, bias=bias)\n",
    "        # output projection\n",
    "        self.c_proj = nn.Linear(n_embd, n_embd, bias=bias)\n",
    "        # regularization\n",
    "        self.attn_dropout = nn.Dropout(dropout)\n",
    "        self.resid_dropout = nn.Dropout(dropout)\n",
    "        self.n_head = n_head\n",
    "        self.n_embd = n_embd\n",
    "        self.dropout = dropout\n",
    "\n",
    "    def forward(self, x):\n",
    "        B, T, C = x.size() # batch size, sequence length, embedding dimensionality (n_embd)\n",
    "\n",
    "        # calculate query, key, values for all heads in batch and move head forward to be the batch dim\n",
    "        q, k, v  = self.c_attn(x).split(self.n_embd, dim=2)\n",
    "        k = k.view(B, T, self.n_head, C // self.n_head).transpose(1, 2) # (B, nh, T, hs)\n",
    "        q = q.view(B, T, self.n_head, C // self.n_head).transpose(1, 2) # (B, nh, T, hs)\n",
    "        v = v.view(B, T, self.n_head, C // self.n_head).transpose(1, 2) # (B, nh, T, hs)\n",
    "\n",
    "        # causal self-attention; Self-attend: (B, nh, T, hs) x (B, nh, hs, T) -> (B, nh, T, T)\n",
    "        y = torch.nn.functional.scaled_dot_product_attention(q, k, v, attn_mask=None, dropout_p=self.dropout if self.training else 0, is_causal=True)\n",
    "        y = y.transpose(1, 2).contiguous().view(B, T, C) # re-assemble all head outputs side by side\n",
    "\n",
    "        # output projection\n",
    "        y = self.resid_dropout(self.c_proj(y))\n",
    "        return y\n",
    "\n",
    "class Block(nn.Module):\n",
    "    def __init__(self, n_embd, n_head, bias, dropout):\n",
    "        super().__init__()\n",
    "        self.ln_1 = nn.LayerNorm(n_embd, bias=bias)\n",
    "        self.attn = CausalSelfAttention(n_embd, n_head, bias, dropout)\n",
    "        self.ln_2 = nn.LayerNorm(n_embd, bias=bias)\n",
    "        self.mlp = nn.Sequential(\n",
    "            nn.Linear(n_embd, 4 * n_embd, bias=bias),\n",
    "            nn.ReLU(),\n",
    "            nn.Linear(4 * n_embd, n_embd, bias=bias),\n",
    "            nn.Dropout(dropout)\n",
    "        )\n",
    "\n",
    "    def forward(self, x):\n",
    "        x = x + self.attn(self.ln_1(x))\n",
    "        x = x + self.mlp(self.ln_2(x))\n",
    "        return x\n",
    "\n",
    "class GPT(nn.Module):\n",
    "    def __init__(self, vocab_size, n_embd, n_head, bias=True, n_layer=4, dropout=0.0):\n",
    "        super().__init__()\n",
    "        self.token_embedding_table = nn.Embedding(\n",
    "            vocab_size, n_embd\n",
    "        )  # (vocab_size, n_embd) (n_embd is just Channels C)\n",
    "        self.position_embedding_table = nn.Embedding(\n",
    "            block_size, n_embd\n",
    "        )  # so each character knows where it is in the sequence\n",
    "        self.blocks = nn.Sequential(*[Block(n_embd, n_head, bias, dropout) for _ in range(n_layer)])\n",
    "        self.ln_f = nn.LayerNorm(n_embd)\n",
    "        self.lm_head = nn.Linear(n_embd, vocab_size)\n",
    "\n",
    "    def forward(self, idx, targets=None):\n",
    "        \"\"\"idx is the context and is shape (B, T)\"\"\"\n",
    "        B, T = idx.shape\n",
    "\n",
    "        # here we select out embeddings for all the tokens up to T and encode positions\n",
    "        tok_embd = self.token_embedding_table(idx)  # (B, T, C)\n",
    "        pos_embd = self.position_embedding_table(\n",
    "            torch.arange(T, device=device)\n",
    "        )  # select vectors based on context positions\n",
    "        x = tok_embd + pos_embd\n",
    "\n",
    "        # ATN \n",
    "        x = self.blocks(x)\n",
    "        x = self.ln_f(x)\n",
    "\n",
    "        # MLP at end\n",
    "        logits = self.lm_head(x)\n",
    "\n",
    "        if targets is None:\n",
    "            loss = None\n",
    "        else:\n",
    "            # generally speaking, this only happens during training\n",
    "            B, T, C = logits.shape\n",
    "            logits = logits.view(B * T, C)\n",
    "            targets = targets.view(\n",
    "                B * T\n",
    "            )  # each index is the target of each row in logits\n",
    "            loss = F.cross_entropy(logits, targets)\n",
    "\n",
    "        # logits is shape (B, T, C) at inference time and (B*T, C) at train\n",
    "        return logits, loss\n",
    "\n",
    "    def generate(self, idx, max_new_tokens):\n",
    "        # idx is (B, T) array of indices in the current context\n",
    "        for _ in range(max_new_tokens):\n",
    "            # crop idx to the last block_size tokens\n",
    "            idx_cond = idx[:, -block_size:]\n",
    "            # get the predictions\n",
    "            logits, loss = self(idx_cond)\n",
    "            # focus only on the last time step\n",
    "            logits = logits[:, -1, :]  # becomes (B, C)\n",
    "            # apply softmax to get probabilities\n",
    "            probs = F.softmax(logits, dim=-1)  # (B, C)\n",
    "            # sample from the distribution\n",
    "            idx_next = torch.multinomial(probs, num_samples=1)  # (B, 1)\n",
    "            # append sampled index to the running sequence\n",
    "            idx = torch.cat((idx, idx_next), dim=1)  # (B, T+1)\n",
    "        return idx"
   ]
  },
  {
   "cell_type": "code",
   "execution_count": 33,
   "metadata": {},
   "outputs": [
    {
     "name": "stdout",
     "output_type": "stream",
     "text": [
      "0.051796 M parameters\n"
     ]
    }
   ],
   "source": [
    "model = GPT(\n",
    "\tvocab_size=20,\n",
    "\tn_embd = 32,\n",
    "\tn_head = 4,\n",
    "\tn_layer = 4,\n",
    "\tbias=False,\n",
    "\tdropout=0.0\n",
    ")\n",
    "m = model.to(device)\n",
    "# print the number of parameters in the model\n",
    "print(sum(p.numel() for p in m.parameters())/1e6, 'M parameters')"
   ]
  },
  {
   "cell_type": "code",
   "execution_count": 34,
   "metadata": {},
   "outputs": [
    {
     "name": "stdout",
     "output_type": "stream",
     "text": [
      "step 0: train loss 3.0943, val loss 3.1167\n",
      "step 100: train loss 1.1743, val loss 1.3402\n",
      "step 200: train loss 0.9849, val loss 1.3924\n",
      "step 300: train loss 0.8649, val loss 1.5229\n",
      "step 400: train loss 0.7090, val loss 1.8782\n",
      "step 500: train loss 0.6177, val loss 2.1300\n",
      "step 600: train loss 0.5366, val loss 2.3871\n",
      "step 700: train loss 0.4752, val loss 2.5609\n",
      "step 800: train loss 0.4248, val loss 2.9879\n",
      "step 900: train loss 0.3855, val loss 3.0775\n",
      "step 1000: train loss 0.3761, val loss 3.4011\n",
      "step 1100: train loss 0.3268, val loss 3.4796\n",
      "step 1200: train loss 0.3093, val loss 3.7033\n",
      "step 1300: train loss 0.2838, val loss 3.8727\n",
      "step 1400: train loss 0.2927, val loss 3.7541\n",
      "step 1500: train loss 0.2787, val loss 4.0328\n",
      "step 1600: train loss 0.2764, val loss 4.1858\n",
      "step 1700: train loss 0.2431, val loss 4.2047\n",
      "step 1800: train loss 0.2346, val loss 4.2002\n",
      "step 1900: train loss 0.2057, val loss 4.4377\n",
      "step 1999: train loss 0.2156, val loss 4.3754\n"
     ]
    }
   ],
   "source": [
    "# create a PyTorch optimizer\n",
    "optimizer = torch.optim.AdamW(m.parameters(), lr=learning_rate)\n",
    "\n",
    "for iter in range(max_iters):\n",
    "\n",
    "    # every once in a while evaluate the loss on train and val sets\n",
    "    if iter % eval_interval == 0 or iter == max_iters - 1:\n",
    "        losses = estimate_loss(m)\n",
    "        print(f\"step {iter}: train loss {losses['train']:.4f}, val loss {losses['val']:.4f}\")\n",
    "\n",
    "    # sample a batch of data\n",
    "    xb, yb = dp.get_batch(train, batch_size=batch_size, block_size=block_size, device=device)\n",
    "\n",
    "    # evaluate the loss\n",
    "    logits, loss = m(xb, yb)\n",
    "    optimizer.zero_grad(set_to_none=True)\n",
    "    loss.backward()\n",
    "    optimizer.step()"
   ]
  },
  {
   "cell_type": "code",
   "execution_count": 37,
   "metadata": {},
   "outputs": [
    {
     "name": "stdout",
     "output_type": "stream",
     "text": [
      "ADDPVQLVVVLVVDHDLPDLSVLSSLLSSCVVQPQADPQLAGDLVSQLVPDRSSADSVLSNVLCVVLRPDDDPGSSNSSSSSVNSVSVSVRDNSSDNSSVSSVRDSSVSSVCVRDSVVVPPSVCVVPDD\n"
     ]
    }
   ],
   "source": [
    "# generate from the model\n",
    "context = torch.zeros((1, 1), dtype=torch.long, device=device)\n",
    "print(dp.decode(m.generate(context, max_new_tokens=128)[0].tolist()))"
   ]
  }
 ],
 "metadata": {
  "kernelspec": {
   "display_name": "Python 3",
   "language": "python",
   "name": "python3"
  },
  "language_info": {
   "codemirror_mode": {
    "name": "ipython",
    "version": 3
   },
   "file_extension": ".py",
   "mimetype": "text/x-python",
   "name": "python",
   "nbconvert_exporter": "python",
   "pygments_lexer": "ipython3",
   "version": "3.11.7"
  }
 },
 "nbformat": 4,
 "nbformat_minor": 2
}
