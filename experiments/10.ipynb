{
 "cells": [
  {
   "cell_type": "markdown",
   "metadata": {},
   "source": [
    "Alot of this code comes from but is revised from\n",
    "- nanogpt-lecture: [Andrej Karpathy, Github ng-video-lecture]( https://github.com/karpathy/ng-video-lecture?tab=readme-ov-file )"
   ]
  },
  {
   "cell_type": "code",
   "execution_count": 2,
   "metadata": {},
   "outputs": [
    {
     "data": {
      "text/plain": [
       "'2.2.1'"
      ]
     },
     "execution_count": 2,
     "metadata": {},
     "output_type": "execute_result"
    }
   ],
   "source": [
    "import torch\n",
    "import torch.nn as nn\n",
    "from torch.nn import functional as F\n",
    "import math\n",
    "torch.__version__"
   ]
  },
  {
   "cell_type": "code",
   "execution_count": 3,
   "metadata": {},
   "outputs": [],
   "source": [
    "import pandas as pd\n",
    "import data_process as dp\n",
    "\n",
    "dp.pdb_to_3Di_csv(\"../data\", \"./data.csv\")\n",
    "df = pd.read_csv(\"./data.csv\")"
   ]
  },
  {
   "cell_type": "code",
   "execution_count": 4,
   "metadata": {},
   "outputs": [],
   "source": [
    "train, val = dp.get_train_val_split(df[\"3Di\"].tolist(), ratio=0.9)"
   ]
  },
  {
   "cell_type": "code",
   "execution_count": 121,
   "metadata": {},
   "outputs": [],
   "source": [
    "\n",
    "batch_size = 16 # how many independent sequences will we process in parallel?\n",
    "block_size = 64 # what is the maximum context length for predictions?\n",
    "vocab_size = 20\n",
    "max_iters = 200\n",
    "eval_interval = 100\n",
    "learning_rate = 1e-3\n",
    "device = 'cuda' if torch.cuda.is_available() else 'cpu'\n",
    "eval_iters = 200\n",
    "\n",
    "@torch.no_grad()\n",
    "def estimate_loss(model):\n",
    "    out = {}\n",
    "    model.eval()\n",
    "    for split in ['train', 'val']:\n",
    "        losses = torch.zeros(eval_iters)\n",
    "        for k in range(eval_iters):\n",
    "            X, Y = dp.get_batch(train if split == \"train\" else val, batch_size=batch_size, block_size=block_size, device=device)\n",
    "            logits, loss, _ = model(X, Y)\n",
    "            losses[k] = loss.item()\n",
    "        out[split] = losses.mean()\n",
    "    model.train()\n",
    "    return out\n",
    "\n",
    "\n",
    "class CausalSelfAttention(nn.Module):\n",
    "    def __init__(self, n_embd, n_head, bias, dropout):\n",
    "        super().__init__()\n",
    "        assert n_embd % n_head == 0\n",
    "        # key, query, value projections for all heads, but in a batch\n",
    "        self.c_attn = nn.Linear(n_embd, 3 * n_embd, bias=bias)\n",
    "        # output projection\n",
    "        self.c_proj = nn.Linear(n_embd, n_embd, bias=bias)\n",
    "        # regularization\n",
    "        self.attn_dropout = nn.Dropout(dropout)\n",
    "        self.resid_dropout = nn.Dropout(dropout)\n",
    "        self.n_head = n_head\n",
    "        self.n_embd = n_embd\n",
    "        self.dropout = dropout\n",
    "\n",
    "    def forward(self, x):\n",
    "        B, T, C = x.size() # batch size, sequence length, embedding dimensionality (n_embd)\n",
    "\n",
    "        # calculate query, key, values for all heads in batch and move head forward to be the batch dim\n",
    "        q, k, v  = self.c_attn(x).split(self.n_embd, dim=2)\n",
    "        k = k.view(B, T, self.n_head, C // self.n_head).transpose(1, 2) # (B, nh, T, hs)\n",
    "        q = q.view(B, T, self.n_head, C // self.n_head).transpose(1, 2) # (B, nh, T, hs)\n",
    "        v = v.view(B, T, self.n_head, C // self.n_head).transpose(1, 2) # (B, nh, T, hs)\n",
    "\n",
    "        # causal self-attention; Self-attend: (B, nh, T, hs) x (B, nh, hs, T) -> (B, nh, T, T)\n",
    "        y = torch.nn.functional.scaled_dot_product_attention(q, k, v, attn_mask=None, dropout_p=self.dropout if self.training else 0, is_causal=True)\n",
    "        y = y.transpose(1, 2).contiguous().view(B, T, C) # re-assemble all head outputs side by side\n",
    "\n",
    "        # output projection\n",
    "        y = self.resid_dropout(self.c_proj(y))\n",
    "        return y\n",
    "\n",
    "class Block(nn.Module):\n",
    "    def __init__(self, n_embd, n_head, bias, dropout):\n",
    "        super().__init__()\n",
    "        self.ln_1 = nn.LayerNorm(n_embd, bias=bias)\n",
    "        self.attn = CausalSelfAttention(n_embd, n_head, bias, dropout)\n",
    "        self.ln_2 = nn.LayerNorm(n_embd, bias=bias)\n",
    "        self.mlp = nn.Sequential(\n",
    "            nn.Linear(n_embd, 4 * n_embd, bias=bias),\n",
    "            nn.ReLU(),\n",
    "            nn.Linear(4 * n_embd, n_embd, bias=bias),\n",
    "            nn.Dropout(dropout)\n",
    "        )\n",
    "\n",
    "    def forward(self, x):\n",
    "        x = x + self.attn(self.ln_1(x))\n",
    "        x = x + self.mlp(self.ln_2(x))\n",
    "        return x\n",
    "\n",
    "class GPT(nn.Module):\n",
    "    def __init__(self, vocab_size, n_embd, n_head, bias=True, n_layer=4, dropout=0.0):\n",
    "        super().__init__()\n",
    "        self.token_embedding_table = nn.Embedding(\n",
    "            vocab_size, n_embd\n",
    "        )  # (vocab_size, n_embd) (n_embd is just Channels C)\n",
    "        self.position_embedding_table = nn.Embedding(\n",
    "            block_size, n_embd\n",
    "        )  # so each character knows where it is in the sequence\n",
    "        self.blocks = nn.Sequential(*[Block(n_embd, n_head, bias, dropout) for _ in range(n_layer)])\n",
    "        self.ln_f = nn.LayerNorm(n_embd)\n",
    "        self.lm_head = nn.Linear(n_embd, vocab_size)\n",
    "\n",
    "    def forward(self, idx, targets=None):\n",
    "        \"\"\"idx is the context and is shape (B, T)\"\"\"\n",
    "        B, T = idx.shape\n",
    "\n",
    "        # here we select out embeddings for all the tokens up to T and encode positions\n",
    "        tok_embd = self.token_embedding_table(idx)  # (B, T, C)\n",
    "        pos_embd = self.position_embedding_table(\n",
    "            torch.arange(T, device=device)\n",
    "        )  # select vectors based on context positions\n",
    "        x = tok_embd + pos_embd\n",
    "\n",
    "        # ATN \n",
    "        embedding = self.blocks(x)\n",
    "        x = self.ln_f(embedding)\n",
    "\n",
    "        # MLP at end\n",
    "        logits = self.lm_head(x)\n",
    "\n",
    "        if targets is None:\n",
    "            loss = None\n",
    "        else:\n",
    "            # generally speaking, this only happens during training\n",
    "            B, T, C = logits.shape\n",
    "            logits = logits.view(B * T, C)\n",
    "            targets = targets.view(\n",
    "                B * T\n",
    "            )  # each index is the target of each row in logits\n",
    "            loss = F.cross_entropy(logits, targets)\n",
    "\n",
    "        # logits is shape (B, T, C) at inference time and (B*T, C) at train\n",
    "        return logits, loss, embedding\n",
    "    \n",
    "    def seq_embeddings(self, seq):\n",
    "        all_embeds = []\n",
    "        B, T = seq.shape\n",
    "        for i in range(0, seq.shape[1], block_size):\n",
    "            d = seq[:, i:i+block_size]\n",
    "            _, _, embeddings = self(d)\n",
    "            embed = embeddings[:, -1, :]  # pluck out the last embeddings (full block_size)\n",
    "            all_embeds.append(embed)\n",
    "        return torch.stack(all_embeds).squeeze()\n",
    "\n",
    "    def generate(self, idx, max_new_tokens):\n",
    "        # idx is (B, T) array of indices in the current context\n",
    "        for _ in range(max_new_tokens):\n",
    "            # crop idx to the last block_size tokens\n",
    "            idx_cond = idx[:, -block_size:]\n",
    "            # get the predictions\n",
    "            logits, loss, embedding = self(idx_cond)\n",
    "            print(\"here\", embedding.shape)\n",
    "            # focus only on the last time step\n",
    "            logits = logits[:, -1, :]  # becomes (B, C)\n",
    "            # apply softmax to get probabilities\n",
    "            probs = F.softmax(logits, dim=-1)  # (B, C)\n",
    "            # sample from the distribution\n",
    "            idx_next = torch.multinomial(probs, num_samples=1)  # (B, 1)\n",
    "            # append sampled index to the running sequence\n",
    "            idx = torch.cat((idx, idx_next), dim=1)  # (B, T+1)\n",
    "        return idx"
   ]
  },
  {
   "cell_type": "code",
   "execution_count": 122,
   "metadata": {},
   "outputs": [
    {
     "name": "stdout",
     "output_type": "stream",
     "text": [
      "0.203924 M parameters\n"
     ]
    }
   ],
   "source": [
    "model = GPT(\n",
    "\tvocab_size=20,\n",
    "\tn_embd = 64,\n",
    "\tn_head = 4,\n",
    "\tn_layer = 4,\n",
    "\tbias=False,\n",
    "\tdropout=0.0\n",
    ")\n",
    "m = model.to(device)\n",
    "# print the number of parameters in the model\n",
    "print(sum(p.numel() for p in m.parameters())/1e6, 'M parameters')"
   ]
  },
  {
   "cell_type": "code",
   "execution_count": 125,
   "metadata": {},
   "outputs": [
    {
     "data": {
      "text/plain": [
       "tensor([[ 2.6182e+00, -3.2591e+00, -9.9736e-01,  2.5315e-01,  1.1520e-01,\n",
       "          3.6852e-01,  1.2804e+00,  1.9150e+00,  4.7864e-01, -1.6801e+00,\n",
       "          7.4739e-02, -1.3687e+00, -1.3968e+00, -2.1360e+00, -1.0572e+00,\n",
       "         -7.7320e-01, -1.3419e+00,  1.5988e+00, -1.0121e+00, -3.5180e-02,\n",
       "          6.3013e-01,  2.7030e-01,  6.5997e-01,  1.8170e-02, -1.9497e+00,\n",
       "          3.0305e+00,  2.4125e+00, -3.9176e-01,  2.4479e-02,  7.7176e-01,\n",
       "         -1.2346e+00, -4.1104e-02,  1.0423e+00,  9.4695e-01, -2.6691e-01,\n",
       "          1.2325e+00, -1.4351e+00,  1.1765e+00,  3.6361e+00,  1.2605e+00,\n",
       "         -3.5517e-01,  2.4124e+00,  4.3375e-01, -9.5031e-02, -2.1172e+00,\n",
       "         -2.4284e+00, -1.5201e-01,  1.0578e+00, -2.1429e+00,  4.8645e+00,\n",
       "          1.9167e+00, -1.0108e+00, -9.8220e-01, -8.1898e-02,  5.7385e-01,\n",
       "         -6.0142e-03, -1.4611e+00, -1.1618e+00, -5.3394e-01,  2.0674e+00,\n",
       "          8.4701e-01, -2.0939e+00, -6.7060e-01, -7.4583e-01],\n",
       "        [ 2.6182e+00, -3.2591e+00, -9.9736e-01,  2.5315e-01,  1.1520e-01,\n",
       "          3.6852e-01,  1.2804e+00,  1.9150e+00,  4.7864e-01, -1.6801e+00,\n",
       "          7.4739e-02, -1.3687e+00, -1.3968e+00, -2.1360e+00, -1.0572e+00,\n",
       "         -7.7320e-01, -1.3419e+00,  1.5988e+00, -1.0121e+00, -3.5180e-02,\n",
       "          6.3013e-01,  2.7030e-01,  6.5997e-01,  1.8170e-02, -1.9497e+00,\n",
       "          3.0305e+00,  2.4125e+00, -3.9176e-01,  2.4479e-02,  7.7176e-01,\n",
       "         -1.2346e+00, -4.1104e-02,  1.0423e+00,  9.4695e-01, -2.6691e-01,\n",
       "          1.2325e+00, -1.4351e+00,  1.1765e+00,  3.6361e+00,  1.2605e+00,\n",
       "         -3.5517e-01,  2.4124e+00,  4.3375e-01, -9.5031e-02, -2.1172e+00,\n",
       "         -2.4284e+00, -1.5201e-01,  1.0578e+00, -2.1429e+00,  4.8645e+00,\n",
       "          1.9167e+00, -1.0108e+00, -9.8220e-01, -8.1898e-02,  5.7385e-01,\n",
       "         -6.0142e-03, -1.4611e+00, -1.1618e+00, -5.3394e-01,  2.0674e+00,\n",
       "          8.4701e-01, -2.0939e+00, -6.7060e-01, -7.4583e-01],\n",
       "        [ 9.9802e-01, -9.0666e-01,  1.2208e+00,  4.8204e-01,  7.9093e-01,\n",
       "         -7.7585e-02,  4.1315e+00,  2.7523e+00, -5.4866e-01, -3.1205e+00,\n",
       "          2.1280e+00, -1.9735e+00, -9.5562e-01, -4.0532e+00,  1.5746e+00,\n",
       "          7.8428e-01,  1.4836e+00, -6.7434e-02, -2.6455e-01, -1.0533e+00,\n",
       "          8.9313e-01, -2.3758e+00, -3.5433e-01, -3.6260e+00,  2.2553e-03,\n",
       "          1.7163e+00,  1.7398e+00, -1.6915e+00,  2.7378e+00, -8.7019e-01,\n",
       "         -2.2869e-01, -2.3783e+00,  4.9641e-01, -1.0066e+00,  7.3996e-01,\n",
       "          6.8838e-01,  2.3708e-01, -3.7506e-01,  3.5565e+00,  1.7341e+00,\n",
       "          2.3157e+00,  9.6601e-01, -3.4542e-01,  8.9351e-01, -4.6587e-01,\n",
       "         -1.2252e+00,  8.9120e-01,  1.4883e-01, -4.8537e-01,  3.6733e+00,\n",
       "         -1.1251e+00, -2.1928e+00, -4.6400e-01, -6.6868e-01,  1.0937e+00,\n",
       "         -1.1150e+00, -6.9012e-02,  1.9013e-01, -9.9252e-01,  1.3533e+00,\n",
       "          9.1823e-02, -7.8866e-01,  1.0085e+00, -5.9496e-01]],\n",
       "       grad_fn=<SqueezeBackward0>)"
      ]
     },
     "execution_count": 125,
     "metadata": {},
     "output_type": "execute_result"
    }
   ],
   "source": [
    "context = torch.zeros((1, 156), dtype=torch.long, device=device)\n",
    "m.seq_embeddings(context)"
   ]
  },
  {
   "cell_type": "code",
   "execution_count": 31,
   "metadata": {},
   "outputs": [
    {
     "name": "stdout",
     "output_type": "stream",
     "text": [
      "step 0: train loss 0.7168, val loss 2.1117\n",
      "step 100: train loss 0.5621, val loss 2.8161\n",
      "step 199: train loss 0.4653, val loss 3.4069\n"
     ]
    }
   ],
   "source": [
    "# create a PyTorch optimizer\n",
    "optimizer = torch.optim.AdamW(m.parameters(), lr=learning_rate)\n",
    "\n",
    "for iter in range(max_iters):\n",
    "\n",
    "    # every once in a while evaluate the loss on train and val sets\n",
    "    if iter % eval_interval == 0 or iter == max_iters - 1:\n",
    "        losses = estimate_loss(m)\n",
    "        print(f\"step {iter}: train loss {losses['train']:.4f}, val loss {losses['val']:.4f}\")\n",
    "\n",
    "    # sample a batch of data\n",
    "    xb, yb = dp.get_batch(train, batch_size=batch_size, block_size=block_size, device=device)\n",
    "\n",
    "    # evaluate the loss\n",
    "    logits, loss, _ = m(xb, yb)\n",
    "    optimizer.zero_grad(set_to_none=True)\n",
    "    loss.backward()\n",
    "    optimizer.step()"
   ]
  },
  {
   "cell_type": "code",
   "execution_count": 32,
   "metadata": {},
   "outputs": [
    {
     "name": "stdout",
     "output_type": "stream",
     "text": [
      "here torch.Size([1, 1, 64])\n",
      "here torch.Size([1, 2, 64])\n",
      "ADP\n"
     ]
    }
   ],
   "source": [
    "# generate from the model\n",
    "context = torch.zeros((1, 1), dtype=torch.long, device=device)\n",
    "print(dp.decode(m.generate(context, max_new_tokens=2)[0].tolist()))"
   ]
  },
  {
   "cell_type": "code",
   "execution_count": 93,
   "metadata": {},
   "outputs": [
    {
     "data": {
      "text/plain": [
       "[tensor([[0., 0., 0., 0., 0.],\n",
       "         [0., 0., 0., 0., 0.]]),\n",
       " tensor([[0., 0., 0., 0., 0.],\n",
       "         [0., 0., 0., 0., 0.]]),\n",
       " tensor([[0., 0., 0., 0., 0.],\n",
       "         [0., 0., 0., 0., 0.]])]"
      ]
     },
     "execution_count": 93,
     "metadata": {},
     "output_type": "execute_result"
    }
   ],
   "source": [
    "B = 2\n",
    "T = 5\n",
    "N = 3\n",
    "a = [torch.zeros((B,T)) for i in range(N)]\n",
    "a"
   ]
  },
  {
   "cell_type": "code",
   "execution_count": 94,
   "metadata": {},
   "outputs": [
    {
     "data": {
      "text/plain": [
       "torch.Size([2, 3, 5])"
      ]
     },
     "execution_count": 94,
     "metadata": {},
     "output_type": "execute_result"
    }
   ],
   "source": [
    "# want a to be B, N, T\n",
    "torch.stack(a).reshape(B, -1, T).shape"
   ]
  },
  {
   "cell_type": "code",
   "execution_count": null,
   "metadata": {},
   "outputs": [],
   "source": []
  }
 ],
 "metadata": {
  "kernelspec": {
   "display_name": "Python 3",
   "language": "python",
   "name": "python3"
  },
  "language_info": {
   "codemirror_mode": {
    "name": "ipython",
    "version": 3
   },
   "file_extension": ".py",
   "mimetype": "text/x-python",
   "name": "python",
   "nbconvert_exporter": "python",
   "pygments_lexer": "ipython3",
   "version": "3.11.7"
  }
 },
 "nbformat": 4,
 "nbformat_minor": 2
}
