{
 "cells": [
  {
   "cell_type": "code",
   "execution_count": 2,
   "metadata": {},
   "outputs": [],
   "source": [
    "from to3Di import create_db, db_to_3Di\n",
    "import matplotlib.pyplot as plt\n",
    "import pandas as pd"
   ]
  },
  {
   "cell_type": "code",
   "execution_count": 5,
   "metadata": {},
   "outputs": [
    {
     "name": "stdout",
     "output_type": "stream",
     "text": [
      "createdb /Users/donnybertucci/datasets/pdb ./.temp/pdb_all \n",
      "\n",
      "MMseqs Version:        \t0c32b3b538f2854a6f6a22102975c50b9d3c8592\n",
      "Chain name mode        \t0\n",
      "Write mapping file     \t0\n",
      "Mask b-factor threshold\t0\n",
      "Coord store mode       \t2\n",
      "Write lookup file      \t1\n",
      "Tar Inclusion Regex    \t.*\n",
      "Tar Exclusion Regex    \t^$\n",
      "File Inclusion Regex   \t.*\n",
      "File Exclusion Regex   \t^$\n",
      "Threads                \t12\n",
      "Verbosity              \t3\n",
      "\n",
      "Output file: ./.temp/pdb_all\n",
      "[=================================================================] 210.63K 5m 10s 962ms\n",
      "Time for merging to pdb_all_ss: 0h 0m 0s 729ms\n",
      "Time for merging to pdb_all_h: 0h 0m 0s 514ms\n",
      "Time for merging to pdb_all_ca: 0h 0m 2s 199ms\n",
      "Time for merging to pdb_all: 0h 0m 0s 586ms\n",
      "Ignore 801210 out of 1683656.\n",
      "Too short: 737185, incorrect: 0, not proteins: 64025.\n",
      "Time for processing: 0h 5m 20s 445ms\n",
      "\n"
     ]
    }
   ],
   "source": [
    "create_db(\"~/datasets/pdb\", \"./.temp/pdb_all\", verbose=True)"
   ]
  },
  {
   "cell_type": "code",
   "execution_count": 6,
   "metadata": {},
   "outputs": [],
   "source": [
    "d = db_to_3Di(\"./.temp/pdb_all\", True)"
   ]
  },
  {
   "cell_type": "code",
   "execution_count": 7,
   "metadata": {},
   "outputs": [],
   "source": [
    "df = pd.DataFrame({\"name\": d.names, \"3Di\": d.repr_3Di, \"AA\": d.repr_AA})"
   ]
  },
  {
   "cell_type": "code",
   "execution_count": 9,
   "metadata": {},
   "outputs": [],
   "source": [
    "df[\"len\"] = df[\"3Di\"].apply(lambda x: len(x))"
   ]
  },
  {
   "cell_type": "code",
   "execution_count": 13,
   "metadata": {},
   "outputs": [
    {
     "data": {
      "text/plain": [
       "<Axes: >"
      ]
     },
     "execution_count": 13,
     "metadata": {},
     "output_type": "execute_result"
    },
    {
     "data": {
      "image/png": "[encoded data removed]",
      "text/plain": [
       "<Figure size 640x480 with 1 Axes>"
      ]
     },
     "metadata": {},
     "output_type": "display_data"
    }
   ],
   "source": [
    "df[df[\"len\"] < 1024][\"len\"].hist()"
   ]
  },
  {
   "cell_type": "code",
   "execution_count": 15,
   "metadata": {},
   "outputs": [],
   "source": [
    "df[[\"name\", \"3Di\", \"AA\"]].to_parquet(\"pdb-all.parquet\", index=False)"
   ]
  }
 ],
 "metadata": {
  "kernelspec": {
   "display_name": "Python 3",
   "language": "python",
   "name": "python3"
  },
  "language_info": {
   "codemirror_mode": {
    "name": "ipython",
    "version": 3
   },
   "file_extension": ".py",
   "mimetype": "text/x-python",
   "name": "python",
   "nbconvert_exporter": "python",
   "pygments_lexer": "ipython3",
   "version": "3.11.7"
  }
 },
 "nbformat": 4,
 "nbformat_minor": 2
}
