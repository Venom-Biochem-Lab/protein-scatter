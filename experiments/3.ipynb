{
 "cells": [
  {
   "cell_type": "code",
   "execution_count": 57,
   "metadata": {},
   "outputs": [],
   "source": [
    "import torch\n",
    "import torch.nn as nn\n",
    "import torch.nn.functional as F"
   ]
  },
  {
   "cell_type": "code",
   "execution_count": 6,
   "metadata": {},
   "outputs": [
    {
     "data": {
      "text/plain": [
       "tensor([[0.],\n",
       "        [1.],\n",
       "        [2.],\n",
       "        [3.],\n",
       "        [4.],\n",
       "        [5.],\n",
       "        [6.],\n",
       "        [7.],\n",
       "        [8.],\n",
       "        [9.]])"
      ]
     },
     "execution_count": 6,
     "metadata": {},
     "output_type": "execute_result"
    }
   ],
   "source": [
    "X = torch.arange(0, 10, 1).reshape(10, 1).to(torch.float32)\n",
    "X"
   ]
  },
  {
   "cell_type": "code",
   "execution_count": 73,
   "metadata": {},
   "outputs": [],
   "source": [
    "class SeqAE(nn.Module):\n",
    "\tdef __init__(self, window_size=3, hidden_size=32):\n",
    "\t\tsuper().__init__()\n",
    "\t\tself.window_size = window_size\n",
    "\t\tself.hidden_size = hidden_size\n",
    "\t\tself.encoder = nn.Sequential(\n",
    "\t\t\tnn.Linear(window_size, hidden_size),\n",
    "\t\t\tnn.ReLU(),\n",
    "\t\t\tnn.Linear(hidden_size, hidden_size),\n",
    "\t\t)\n",
    "\t\tself.decoder = nn.Sequential(\n",
    "\t\t\tnn.Linear(hidden_size, hidden_size),\n",
    "\t\t\tnn.ReLU(),\n",
    "\t\t\tnn.Linear(hidden_size, window_size),\n",
    "\t\t)\n",
    "\n",
    "\tdef forward(self, X, cur_embed=None):\n",
    "\t\tif cur_embed is not None:\n",
    "\t\t\treturn None, self.decoder(cur_embed)\n",
    "\t\tembed = self.encoder(X)\n",
    "\t\treturn embed, self.decoder(embed)\n",
    "\n",
    "model = SeqAE()"
   ]
  },
  {
   "cell_type": "code",
   "execution_count": 77,
   "metadata": {},
   "outputs": [
    {
     "ename": "RuntimeError",
     "evalue": "a leaf Variable that requires grad is being used in an in-place operation.",
     "output_type": "error",
     "traceback": [
      "\u001b[0;31m---------------------------------------------------------------------------\u001b[0m",
      "\u001b[0;31mRuntimeError\u001b[0m                              Traceback (most recent call last)",
      "Cell \u001b[0;32mIn[77], line 9\u001b[0m\n\u001b[1;32m      7\u001b[0m _X \u001b[38;5;241m=\u001b[39m X[j:j\u001b[38;5;241m+\u001b[39m\u001b[38;5;241m3\u001b[39m]\u001b[38;5;241m.\u001b[39mT\n\u001b[1;32m      8\u001b[0m embed \u001b[38;5;241m=\u001b[39m model\u001b[38;5;241m.\u001b[39mencoder(_X)\n\u001b[0;32m----> 9\u001b[0m \u001b[43mavg_embedding\u001b[49m\u001b[43m \u001b[49m\u001b[38;5;241;43m+\u001b[39;49m\u001b[38;5;241;43m=\u001b[39;49m\u001b[43m \u001b[49m\u001b[43membed\u001b[49m\n\u001b[1;32m     10\u001b[0m avg_embedding \u001b[38;5;241m/\u001b[39m\u001b[38;5;241m=\u001b[39m (\u001b[38;5;241m10\u001b[39m\u001b[38;5;241m-\u001b[39m\u001b[38;5;241m3\u001b[39m)\n\u001b[1;32m     11\u001b[0m output \u001b[38;5;241m=\u001b[39m model\u001b[38;5;241m.\u001b[39mdecoder(avg_embedding)\n",
      "\u001b[0;31mRuntimeError\u001b[0m: a leaf Variable that requires grad is being used in an in-place operation."
     ]
    }
   ],
   "source": [
    "_X = X[:3].T\n",
    "model = SeqAE()\n",
    "optim = torch.optim.Adam(model.parameters(), lr=0.01)\n",
    "for i in range(10_000):\n",
    "\tavg_embedding = torch.zeros(1, model.hidden_size, requires_grad=True)\n",
    "\tfor j in range(0, 10-3):\n",
    "\t\t_X = X[j:j+3].T\n",
    "\t\tembed = model.encoder(_X)\n",
    "\t\tavg_embedding += embed\n",
    "\t\tavg_embedding /= (10-3)\n",
    "\t\toutput = model.decoder(avg_embedding)\n",
    "\t\tloss = F.mse_loss(output, _X)\n",
    "\n",
    "\t\toptim.zero_grad()\n",
    "\t\tloss.backward(retain_graph=True)\n",
    "\t\toptim.step()\n",
    "\t\tprint(loss.item())"
   ]
  },
  {
   "cell_type": "code",
   "execution_count": 72,
   "metadata": {},
   "outputs": [
    {
     "data": {
      "text/plain": [
       "(tensor([[-1.1044e-01,  7.6778e-02, -7.5444e-01, -4.7193e-02, -3.5585e-02,\n",
       "          -1.0240e-02,  1.2201e-01,  9.2389e-02, -3.8819e-01,  2.3825e-04,\n",
       "           2.7074e+00,  7.9815e-02, -5.2191e-01,  4.7439e-02,  3.9992e-02,\n",
       "           1.1675e-02,  8.1547e-03,  7.9263e-02, -6.5563e-02,  3.1444e-02,\n",
       "          -6.2912e-03,  3.5412e-01,  8.7691e-02, -8.8728e-02, -4.3509e-01,\n",
       "           7.6206e-02, -3.3255e-02, -2.9341e-01,  5.8198e-02, -8.0172e-02,\n",
       "          -1.0646e-02, -1.2777e-01]], grad_fn=<AddmmBackward0>),\n",
       " tensor([[0.0167, 1.0167, 2.0167]], grad_fn=<AddmmBackward0>))"
      ]
     },
     "execution_count": 72,
     "metadata": {},
     "output_type": "execute_result"
    }
   ],
   "source": [
    "model(X[0:3].T)"
   ]
  },
  {
   "cell_type": "code",
   "execution_count": null,
   "metadata": {},
   "outputs": [],
   "source": []
  }
 ],
 "metadata": {
  "kernelspec": {
   "display_name": "Python 3",
   "language": "python",
   "name": "python3"
  },
  "language_info": {
   "codemirror_mode": {
    "name": "ipython",
    "version": 3
   },
   "file_extension": ".py",
   "mimetype": "text/x-python",
   "name": "python",
   "nbconvert_exporter": "python",
   "pygments_lexer": "ipython3",
   "version": "3.11.7"
  }
 },
 "nbformat": 4,
 "nbformat_minor": 2
}
