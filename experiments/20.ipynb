{
 "cells": [
  {
   "cell_type": "code",
   "execution_count": 1,
   "id": "42eb4233-014d-4d3e-9e9c-d18aea53e7c0",
   "metadata": {
    "tags": []
   },
   "outputs": [],
   "source": [
    "import pandas as pd\n",
    "import numpy as np"
   ]
  },
  {
   "cell_type": "code",
   "execution_count": 2,
   "id": "43021144-5ceb-48ac-b31e-a2f9f8d34ae0",
   "metadata": {
    "tags": []
   },
   "outputs": [],
   "source": [
    "df = pd.read_parquet(\"embed-large-3-pdb-no-model-no-asm.parquet\")"
   ]
  },
  {
   "cell_type": "code",
   "execution_count": 3,
   "id": "d269130e-94f7-4fca-9793-f75ddc5d7e9b",
   "metadata": {},
   "outputs": [],
   "source": [
    "# obj is to convert the current embeddings into avg pooled\n",
    "avg_pooled = df.groupby(\"name\").mean()"
   ]
  },
  {
   "cell_type": "code",
   "execution_count": 7,
   "id": "2b49921c-1ac5-4251-a22f-9e154b549bdc",
   "metadata": {
    "tags": []
   },
   "outputs": [],
   "source": [
    "avg_pooled.to_parquet(\"embed-large-3-avg.parquet\")"
   ]
  },
  {
   "cell_type": "code",
   "execution_count": null,
   "id": "0ae60373-e52f-4b1c-a8ce-3981e44a8131",
   "metadata": {},
   "outputs": [],
   "source": []
  }
 ],
 "metadata": {
  "kernelspec": {
   "display_name": "Python 3 (ipykernel)",
   "language": "python",
   "name": "python3"
  },
  "language_info": {
   "codemirror_mode": {
    "name": "ipython",
    "version": 3
   },
   "file_extension": ".py",
   "mimetype": "text/x-python",
   "name": "python",
   "nbconvert_exporter": "python",
   "pygments_lexer": "ipython3",
   "version": "3.11.8"
  }
 },
 "nbformat": 4,
 "nbformat_minor": 5
}
