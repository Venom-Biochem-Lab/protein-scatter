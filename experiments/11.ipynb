{
 "cells": [
  {
   "cell_type": "code",
   "execution_count": 13,
   "metadata": {},
   "outputs": [],
   "source": [
    "import pandas as pd\n",
    "import data_process as dp\n",
    "\n",
    "dp.pdb_to_3Di_csv(\"../master_venom_galaxy\", \"./data-venome.csv\")\n",
    "df = pd.read_csv(\"./data-venome.csv\")"
   ]
  },
  {
   "cell_type": "code",
   "execution_count": 14,
   "metadata": {},
   "outputs": [],
   "source": [
    "df[\"len\"] = df[\"3Di\"].apply(lambda x: len(x))"
   ]
  },
  {
   "cell_type": "code",
   "execution_count": 22,
   "metadata": {},
   "outputs": [
    {
     "data": {
      "text/html": [
       "<div>\n",
       "<style scoped>\n",
       "    .dataframe tbody tr th:only-of-type {\n",
       "        vertical-align: middle;\n",
       "    }\n",
       "\n",
       "    .dataframe tbody tr th {\n",
       "        vertical-align: top;\n",
       "    }\n",
       "\n",
       "    .dataframe thead th {\n",
       "        text-align: right;\n",
       "    }\n",
       "</style>\n",
       "<table border=\"1\" class=\"dataframe\">\n",
       "  <thead>\n",
       "    <tr style=\"text-align: right;\">\n",
       "      <th></th>\n",
       "      <th>name</th>\n",
       "      <th>3Di</th>\n",
       "      <th>len</th>\n",
       "    </tr>\n",
       "  </thead>\n",
       "  <tbody>\n",
       "    <tr>\n",
       "      <th>0</th>\n",
       "      <td>Gh_comp10207_c0_seq2.pdb</td>\n",
       "      <td>DWFQVLCVPHDQQLFWFWQDDPDDPVPTDTWGFPDKDADPQWDDCV...</td>\n",
       "      <td>197</td>\n",
       "    </tr>\n",
       "    <tr>\n",
       "      <th>1</th>\n",
       "      <td>Gh_comp1045_c0_seq1.pdb</td>\n",
       "      <td>DLQLQQDAQVVLLVVLVADLQQWAAPVSLVVQCVVAPWQAADDDDD...</td>\n",
       "      <td>1002</td>\n",
       "    </tr>\n",
       "    <tr>\n",
       "      <th>2</th>\n",
       "      <td>Gh_comp10466_c0_seq1.pdb</td>\n",
       "      <td>DVVVVVVDDLVRNLVVVVVCCVVVVVVLVVPDDDDPLVVVVVVVVV...</td>\n",
       "      <td>562</td>\n",
       "    </tr>\n",
       "    <tr>\n",
       "      <th>3</th>\n",
       "      <td>Gh_comp1063_c0_seq1.pdb</td>\n",
       "      <td>DQFDFPVQLLPDPDPVSLVVSDDPPGDFDPDFFFAEEEEAAPQQQA...</td>\n",
       "      <td>520</td>\n",
       "    </tr>\n",
       "    <tr>\n",
       "      <th>4</th>\n",
       "      <td>Gh_comp1068_c0_seq5.pdb</td>\n",
       "      <td>DPPPDPDPPDQPDQDLQFDDDPVVLVVLLPDDDDQVFWWWAADPFQ...</td>\n",
       "      <td>1968</td>\n",
       "    </tr>\n",
       "    <tr>\n",
       "      <th>...</th>\n",
       "      <td>...</td>\n",
       "      <td>...</td>\n",
       "      <td>...</td>\n",
       "    </tr>\n",
       "    <tr>\n",
       "      <th>430</th>\n",
       "      <td>Lh14_comp82_c1_seq1.pdb</td>\n",
       "      <td>DVVVVVVVVVVVVVLCVQAVQDPVLLVVLVVLLVVLLVVLLVVQPP...</td>\n",
       "      <td>313</td>\n",
       "    </tr>\n",
       "    <tr>\n",
       "      <th>431</th>\n",
       "      <td>Lh14_comp82_c1_seq3.pdb</td>\n",
       "      <td>DVPPLVPPDPPDDDDDDQPADDPVLLVLLVVLLVCLLVVLCVQCVP...</td>\n",
       "      <td>311</td>\n",
       "    </tr>\n",
       "    <tr>\n",
       "      <th>432</th>\n",
       "      <td>Lh14_comp835_c0_seq1.pdb</td>\n",
       "      <td>DDFFDFDDQDWFQWLVGIDGCLVVLAQAKEKEWEAFDFPDDLVLVQ...</td>\n",
       "      <td>220</td>\n",
       "    </tr>\n",
       "    <tr>\n",
       "      <th>433</th>\n",
       "      <td>Lh14_comp862_c0_seq1.pdb</td>\n",
       "      <td>DPPPVVVVVVVVVVVVVVLVVVQVVVVVAPPPDDDDDDDDDDDDDD...</td>\n",
       "      <td>180</td>\n",
       "    </tr>\n",
       "    <tr>\n",
       "      <th>435</th>\n",
       "      <td>Lh14_comp918_c0_seq1.pdb</td>\n",
       "      <td>DDDDPVVVVVVVVVVVVVVVVVVVVVVVVVVVVVVVVVVVVVVVVC...</td>\n",
       "      <td>296</td>\n",
       "    </tr>\n",
       "  </tbody>\n",
       "</table>\n",
       "<p>386 rows × 3 columns</p>\n",
       "</div>"
      ],
      "text/plain": [
       "                         name  \\\n",
       "0    Gh_comp10207_c0_seq2.pdb   \n",
       "1     Gh_comp1045_c0_seq1.pdb   \n",
       "2    Gh_comp10466_c0_seq1.pdb   \n",
       "3     Gh_comp1063_c0_seq1.pdb   \n",
       "4     Gh_comp1068_c0_seq5.pdb   \n",
       "..                        ...   \n",
       "430   Lh14_comp82_c1_seq1.pdb   \n",
       "431   Lh14_comp82_c1_seq3.pdb   \n",
       "432  Lh14_comp835_c0_seq1.pdb   \n",
       "433  Lh14_comp862_c0_seq1.pdb   \n",
       "435  Lh14_comp918_c0_seq1.pdb   \n",
       "\n",
       "                                                   3Di   len  \n",
       "0    DWFQVLCVPHDQQLFWFWQDDPDDPVPTDTWGFPDKDADPQWDDCV...   197  \n",
       "1    DLQLQQDAQVVLLVVLVADLQQWAAPVSLVVQCVVAPWQAADDDDD...  1002  \n",
       "2    DVVVVVVDDLVRNLVVVVVCCVVVVVVLVVPDDDDPLVVVVVVVVV...   562  \n",
       "3    DQFDFPVQLLPDPDPVSLVVSDDPPGDFDPDFFFAEEEEAAPQQQA...   520  \n",
       "4    DPPPDPDPPDQPDQDLQFDDDPVVLVVLLPDDDDQVFWWWAADPFQ...  1968  \n",
       "..                                                 ...   ...  \n",
       "430  DVVVVVVVVVVVVVLCVQAVQDPVLLVVLVVLLVVLLVVLLVVQPP...   313  \n",
       "431  DVPPLVPPDPPDDDDDDQPADDPVLLVLLVVLLVCLLVVLCVQCVP...   311  \n",
       "432  DDFFDFDDQDWFQWLVGIDGCLVVLAQAKEKEWEAFDFPDDLVLVQ...   220  \n",
       "433  DPPPVVVVVVVVVVVVVVLVVVQVVVVVAPPPDDDDDDDDDDDDDD...   180  \n",
       "435  DDDDPVVVVVVVVVVVVVVVVVVVVVVVVVVVVVVVVVVVVVVVVC...   296  \n",
       "\n",
       "[386 rows x 3 columns]"
      ]
     },
     "execution_count": 22,
     "metadata": {},
     "output_type": "execute_result"
    }
   ],
   "source": [
    "train_df = df[df[\"len\"] > 128]\n",
    "train_df"
   ]
  },
  {
   "cell_type": "code",
   "execution_count": 23,
   "metadata": {},
   "outputs": [],
   "source": [
    "train_df[[\"name\", \"3Di\"]].to_csv(\"data-venome.csv\", index=False)"
   ]
  },
  {
   "cell_type": "code",
   "execution_count": null,
   "metadata": {},
   "outputs": [],
   "source": []
  }
 ],
 "metadata": {
  "kernelspec": {
   "display_name": "Python 3",
   "language": "python",
   "name": "python3"
  },
  "language_info": {
   "codemirror_mode": {
    "name": "ipython",
    "version": 3
   },
   "file_extension": ".py",
   "mimetype": "text/x-python",
   "name": "python",
   "nbconvert_exporter": "python",
   "pygments_lexer": "ipython3",
   "version": "3.11.7"
  }
 },
 "nbformat": 4,
 "nbformat_minor": 2
}
