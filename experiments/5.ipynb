{
 "cells": [
  {
   "cell_type": "code",
   "execution_count": 1,
   "metadata": {},
   "outputs": [],
   "source": [
    "from to3Di import to3Di\n",
    "DATA_DIR = \"../data\""
   ]
  },
  {
   "cell_type": "code",
   "execution_count": 2,
   "metadata": {},
   "outputs": [],
   "source": [
    "# for now just use CSV\n",
    "import pandas as pd\n",
    "\n",
    "def pdb_to_3Di_csv(dir, out_file=\"default.csv\"):\n",
    "\tparsed = to3Di(dir)\n",
    "\tpd.DataFrame({\"name\": parsed.names, \"3Di\": [f\"[{_repr}]\" for _repr in parsed.repr_3Di]}).to_csv(out_file, index=False)\n",
    "pdb_to_3Di_csv(DATA_DIR, \"3Di-15.csv\")"
   ]
  }
 ],
 "metadata": {
  "kernelspec": {
   "display_name": "Python 3",
   "language": "python",
   "name": "python3"
  },
  "language_info": {
   "codemirror_mode": {
    "name": "ipython",
    "version": 3
   },
   "file_extension": ".py",
   "mimetype": "text/x-python",
   "name": "python",
   "nbconvert_exporter": "python",
   "pygments_lexer": "ipython3",
   "version": "3.11.7"
  }
 },
 "nbformat": 4,
 "nbformat_minor": 2
}
