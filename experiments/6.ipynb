{
 "cells": [
  {
   "cell_type": "code",
   "execution_count": 2,
   "metadata": {},
   "outputs": [],
   "source": [
    "import torch\n",
    "import pandas as pd\n",
    "from data_process import decode, encode"
   ]
  },
  {
   "cell_type": "code",
   "execution_count": 6,
   "metadata": {},
   "outputs": [
    {
     "data": {
      "text/plain": [
       "301.3333333333333"
      ]
     },
     "execution_count": 6,
     "metadata": {},
     "output_type": "execute_result"
    }
   ],
   "source": [
    "df = pd.read_csv(\"3Di-15.csv\")\n",
    "names = df[\"name\"].tolist()\n",
    "repr_3Di = df[\"3Di\"].tolist()\n",
    "df[\"len\"] = df[\"3Di\"].apply(lambda x: len(x))\n",
    "df[\"len\"].mean()"
   ]
  },
  {
   "cell_type": "code",
   "execution_count": 8,
   "metadata": {},
   "outputs": [],
   "source": [
    "# first index into the protein randomly\n",
    "# then within the protein get a block_size chunk for x and offset by 1 for the targets \n",
    "def get_block_xy(repr_3Di, block_size):\n",
    "\tprotein_idx = torch.randint(len(repr_3Di), (1,)).item()\n",
    "\tprotein_3Di = repr_3Di[protein_idx]\n",
    "\tblock_idx = torch.randint(len(protein_3Di) - block_size, (1,)).item()\n",
    "\tX = protein_3Di[block_idx:block_idx+block_size]\n",
    "\tY = protein_3Di[block_idx+1:block_idx+block_size+1]\n",
    "\treturn X, Y\n",
    "\n",
    "def get_train_val_split(repr_3Di, ratio=0.9):\n",
    "\tsplit = int(ratio*len(repr_3Di))\n",
    "\ttrain = repr_3Di[:split]\n",
    "\tval = repr_3Di[split:]\n",
    "\treturn train, val\n",
    "\n",
    "train, val = get_train_val_split(repr_3Di)"
   ]
  },
  {
   "cell_type": "code",
   "execution_count": 117,
   "metadata": {},
   "outputs": [
    {
     "data": {
      "text/plain": [
       "tensor([ 2,  2,  2,  2,  2,  2,  2,  2,  2,  2,  2,  2,  2,  2,  2,  2,  2,  2,\n",
       "         2,  2,  2,  2,  2,  2,  2,  2,  2,  2,  2,  2,  2,  2,  2,  2,  2,  2,\n",
       "         2,  2,  2,  2,  2,  2, 12,  2,  2, 12,  2, 12, 12, 17, 17, 17, 17, 17,\n",
       "        17,  9,  1,  1, 17,  9, 12, 17,  2,  2])"
      ]
     },
     "execution_count": 117,
     "metadata": {},
     "output_type": "execute_result"
    }
   ],
   "source": [
    "def get_batch(split, batch_size=8, block_size=64):\n",
    "\txs = []\n",
    "\tys = []\n",
    "\tfor b in range(batch_size):\n",
    "\t\tx, y = get_block_xy(split, block_size)\n",
    "\t\txs.append(encode(x))\n",
    "\t\tys.append(encode(y))\n",
    "\txs = torch.tensor(xs, dtype=torch.long)\n",
    "\tys = torch.tensor(ys, dtype=torch.long)\n",
    "\treturn xs, ys\n",
    "x, y = get_batch(val)"
   ]
  }
 ],
 "metadata": {
  "kernelspec": {
   "display_name": "Python 3",
   "language": "python",
   "name": "python3"
  },
  "language_info": {
   "codemirror_mode": {
    "name": "ipython",
    "version": 3
   },
   "file_extension": ".py",
   "mimetype": "text/x-python",
   "name": "python",
   "nbconvert_exporter": "python",
   "pygments_lexer": "ipython3",
   "version": "3.11.7"
  }
 },
 "nbformat": 4,
 "nbformat_minor": 2
}
