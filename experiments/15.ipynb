{
 "cells": [
  {
   "cell_type": "code",
   "execution_count": 1,
   "metadata": {},
   "outputs": [],
   "source": [
    "import pandas as pd"
   ]
  },
  {
   "cell_type": "code",
   "execution_count": 4,
   "metadata": {},
   "outputs": [],
   "source": [
    "df = pd.read_parquet(\"./datasets/pdb-no-model-no-asm.parquet\")"
   ]
  },
  {
   "cell_type": "code",
   "execution_count": 5,
   "metadata": {},
   "outputs": [
    {
     "data": {
      "text/html": [
       "<div>\n",
       "<style scoped>\n",
       "    .dataframe tbody tr th:only-of-type {\n",
       "        vertical-align: middle;\n",
       "    }\n",
       "\n",
       "    .dataframe tbody tr th {\n",
       "        vertical-align: top;\n",
       "    }\n",
       "\n",
       "    .dataframe thead th {\n",
       "        text-align: right;\n",
       "    }\n",
       "</style>\n",
       "<table border=\"1\" class=\"dataframe\">\n",
       "  <thead>\n",
       "    <tr style=\"text-align: right;\">\n",
       "      <th></th>\n",
       "      <th>name</th>\n",
       "      <th>3Di</th>\n",
       "      <th>AA</th>\n",
       "    </tr>\n",
       "  </thead>\n",
       "  <tbody>\n",
       "    <tr>\n",
       "      <th>0</th>\n",
       "      <td>pdb101m.ent.gz</td>\n",
       "      <td>DADDVVLLVLQVVLVVVCVVPQLVLLLQLVLQLCVVPVVVLVLDPV...</td>\n",
       "      <td>MVLSEGEWQLVLHVWAKVEADVAGHGQDILIRLFKSHPETLEKFDR...</td>\n",
       "    </tr>\n",
       "    <tr>\n",
       "      <th>1</th>\n",
       "      <td>pdb102l.ent.gz</td>\n",
       "      <td>DALVVLLCVVQPAAFFFDQDLVGFTAHGRGHGQDPDPDDVPRRQVS...</td>\n",
       "      <td>MNIFEMLRIDEGLRLKIYKDTEGYYTIGIGHLLTKSPSLNAAAKSE...</td>\n",
       "    </tr>\n",
       "    <tr>\n",
       "      <th>2</th>\n",
       "      <td>pdb102m.ent.gz</td>\n",
       "      <td>DADDVVLLCLQVVLVVVCVVPQLVLLLQLVLLLCVVPVVVLVLPPV...</td>\n",
       "      <td>MVLSEGEWQLVLHVWAKVEADVAGHGQDILIRLFKSHPETLEKFDR...</td>\n",
       "    </tr>\n",
       "    <tr>\n",
       "      <th>3</th>\n",
       "      <td>pdb103l.ent.gz</td>\n",
       "      <td>DALLVLQCVVFPAAFFWDQDLVGFTDHGRRRGQDPPVSSQVSVCVL...</td>\n",
       "      <td>MNIFEMLRIDEGLRLKIYKDTEGYYTIGIGHLLTSLDAAKSELDKA...</td>\n",
       "    </tr>\n",
       "    <tr>\n",
       "      <th>4</th>\n",
       "      <td>pdb103m.ent.gz</td>\n",
       "      <td>DADDVVLLVLQVVLVVVCVVPQLVLLLQLVLLLCVVPVVVQVLDPP...</td>\n",
       "      <td>MVLSEGEWQLVLHVWAKVEADVAGHGQDILIRLFKSHPETLEKFDR...</td>\n",
       "    </tr>\n",
       "    <tr>\n",
       "      <th>...</th>\n",
       "      <td>...</td>\n",
       "      <td>...</td>\n",
       "      <td>...</td>\n",
       "    </tr>\n",
       "    <tr>\n",
       "      <th>199493</th>\n",
       "      <td>pdb9rsa.ent.gz_A</td>\n",
       "      <td>DADLQRVCCLFAEDQPDQAQDDQCSCLVSCVVSPVLVPHQNFKGKH...</td>\n",
       "      <td>KETAAAKFERQHMDSSTSAASSSNYCNQMMKSRNLTKDRCKPVNTF...</td>\n",
       "    </tr>\n",
       "    <tr>\n",
       "      <th>199494</th>\n",
       "      <td>pdb9rub.ent.gz_A</td>\n",
       "      <td>DFLPLQEDQPCDVVVVVPPAQWKKWKKQWDWDPPDDPSGVLSVLQL...</td>\n",
       "      <td>DQSSRYVNLALKEEDLIAGGEHVLCAYIMKPKAGYGYVATAAHFAA...</td>\n",
       "    </tr>\n",
       "    <tr>\n",
       "      <th>199495</th>\n",
       "      <td>pdb9wga.ent.gz_A</td>\n",
       "      <td>DFADPVVVNDADPQQFWQALVRDGDDDCRGQNPRTGAGNRPFFDFA...</td>\n",
       "      <td>ERCGEQGSNMECPNNLCCSQYGYCGMGGDYCGKGCQNGACWTSKRC...</td>\n",
       "    </tr>\n",
       "    <tr>\n",
       "      <th>199496</th>\n",
       "      <td>pdb9xia.ent.gz</td>\n",
       "      <td>DDDAAALQVQAEEELCALQPQFADPPDDGLADGDQLLVVLVLCLVR...</td>\n",
       "      <td>MNYQPTPEDRFTFGLWTVGWQGRDPFGDATRRALDPVESVQRLAEL...</td>\n",
       "    </tr>\n",
       "    <tr>\n",
       "      <th>199497</th>\n",
       "      <td>pdb9xim.ent.gz_A</td>\n",
       "      <td>DAAALQQQAEEELCALQPQPADPPHHGLADGDQLLVVLVLCLVRHH...</td>\n",
       "      <td>VQATREDKFSFGLWTVGWQARDAFGDATRTALDPVEAVHKLAEIGA...</td>\n",
       "    </tr>\n",
       "  </tbody>\n",
       "</table>\n",
       "<p>199498 rows × 3 columns</p>\n",
       "</div>"
      ],
      "text/plain": [
       "                    name                                                3Di  \\\n",
       "0         pdb101m.ent.gz  DADDVVLLVLQVVLVVVCVVPQLVLLLQLVLQLCVVPVVVLVLDPV...   \n",
       "1         pdb102l.ent.gz  DALVVLLCVVQPAAFFFDQDLVGFTAHGRGHGQDPDPDDVPRRQVS...   \n",
       "2         pdb102m.ent.gz  DADDVVLLCLQVVLVVVCVVPQLVLLLQLVLLLCVVPVVVLVLPPV...   \n",
       "3         pdb103l.ent.gz  DALLVLQCVVFPAAFFWDQDLVGFTDHGRRRGQDPPVSSQVSVCVL...   \n",
       "4         pdb103m.ent.gz  DADDVVLLVLQVVLVVVCVVPQLVLLLQLVLLLCVVPVVVQVLDPP...   \n",
       "...                  ...                                                ...   \n",
       "199493  pdb9rsa.ent.gz_A  DADLQRVCCLFAEDQPDQAQDDQCSCLVSCVVSPVLVPHQNFKGKH...   \n",
       "199494  pdb9rub.ent.gz_A  DFLPLQEDQPCDVVVVVPPAQWKKWKKQWDWDPPDDPSGVLSVLQL...   \n",
       "199495  pdb9wga.ent.gz_A  DFADPVVVNDADPQQFWQALVRDGDDDCRGQNPRTGAGNRPFFDFA...   \n",
       "199496    pdb9xia.ent.gz  DDDAAALQVQAEEELCALQPQFADPPDDGLADGDQLLVVLVLCLVR...   \n",
       "199497  pdb9xim.ent.gz_A  DAAALQQQAEEELCALQPQPADPPHHGLADGDQLLVVLVLCLVRHH...   \n",
       "\n",
       "                                                       AA  \n",
       "0       MVLSEGEWQLVLHVWAKVEADVAGHGQDILIRLFKSHPETLEKFDR...  \n",
       "1       MNIFEMLRIDEGLRLKIYKDTEGYYTIGIGHLLTKSPSLNAAAKSE...  \n",
       "2       MVLSEGEWQLVLHVWAKVEADVAGHGQDILIRLFKSHPETLEKFDR...  \n",
       "3       MNIFEMLRIDEGLRLKIYKDTEGYYTIGIGHLLTSLDAAKSELDKA...  \n",
       "4       MVLSEGEWQLVLHVWAKVEADVAGHGQDILIRLFKSHPETLEKFDR...  \n",
       "...                                                   ...  \n",
       "199493  KETAAAKFERQHMDSSTSAASSSNYCNQMMKSRNLTKDRCKPVNTF...  \n",
       "199494  DQSSRYVNLALKEEDLIAGGEHVLCAYIMKPKAGYGYVATAAHFAA...  \n",
       "199495  ERCGEQGSNMECPNNLCCSQYGYCGMGGDYCGKGCQNGACWTSKRC...  \n",
       "199496  MNYQPTPEDRFTFGLWTVGWQGRDPFGDATRRALDPVESVQRLAEL...  \n",
       "199497  VQATREDKFSFGLWTVGWQARDAFGDATRTALDPVEAVHKLAEIGA...  \n",
       "\n",
       "[199498 rows x 3 columns]"
      ]
     },
     "execution_count": 5,
     "metadata": {},
     "output_type": "execute_result"
    }
   ],
   "source": [
    "df"
   ]
  },
  {
   "cell_type": "code",
   "execution_count": 11,
   "metadata": {},
   "outputs": [],
   "source": [
    "df = df.drop_duplicates(subset=\"AA\")"
   ]
  },
  {
   "cell_type": "code",
   "execution_count": 12,
   "metadata": {},
   "outputs": [
    {
     "data": {
      "text/html": [
       "<div>\n",
       "<style scoped>\n",
       "    .dataframe tbody tr th:only-of-type {\n",
       "        vertical-align: middle;\n",
       "    }\n",
       "\n",
       "    .dataframe tbody tr th {\n",
       "        vertical-align: top;\n",
       "    }\n",
       "\n",
       "    .dataframe thead th {\n",
       "        text-align: right;\n",
       "    }\n",
       "</style>\n",
       "<table border=\"1\" class=\"dataframe\">\n",
       "  <thead>\n",
       "    <tr style=\"text-align: right;\">\n",
       "      <th></th>\n",
       "      <th>name</th>\n",
       "      <th>3Di</th>\n",
       "      <th>AA</th>\n",
       "    </tr>\n",
       "  </thead>\n",
       "  <tbody>\n",
       "    <tr>\n",
       "      <th>0</th>\n",
       "      <td>pdb101m.ent.gz</td>\n",
       "      <td>DADDVVLLVLQVVLVVVCVVPQLVLLLQLVLQLCVVPVVVLVLDPV...</td>\n",
       "      <td>MVLSEGEWQLVLHVWAKVEADVAGHGQDILIRLFKSHPETLEKFDR...</td>\n",
       "    </tr>\n",
       "    <tr>\n",
       "      <th>1</th>\n",
       "      <td>pdb102l.ent.gz</td>\n",
       "      <td>DALVVLLCVVQPAAFFFDQDLVGFTAHGRGHGQDPDPDDVPRRQVS...</td>\n",
       "      <td>MNIFEMLRIDEGLRLKIYKDTEGYYTIGIGHLLTKSPSLNAAAKSE...</td>\n",
       "    </tr>\n",
       "    <tr>\n",
       "      <th>2</th>\n",
       "      <td>pdb102m.ent.gz</td>\n",
       "      <td>DADDVVLLCLQVVLVVVCVVPQLVLLLQLVLLLCVVPVVVLVLPPV...</td>\n",
       "      <td>MVLSEGEWQLVLHVWAKVEADVAGHGQDILIRLFKSHPETLEKFDR...</td>\n",
       "    </tr>\n",
       "    <tr>\n",
       "      <th>3</th>\n",
       "      <td>pdb103l.ent.gz</td>\n",
       "      <td>DALLVLQCVVFPAAFFWDQDLVGFTDHGRRRGQDPPVSSQVSVCVL...</td>\n",
       "      <td>MNIFEMLRIDEGLRLKIYKDTEGYYTIGIGHLLTSLDAAKSELDKA...</td>\n",
       "    </tr>\n",
       "    <tr>\n",
       "      <th>5</th>\n",
       "      <td>pdb104l.ent.gz_A</td>\n",
       "      <td>DAQVVLLCVVQPADFAWDAPLVGFTAHASRDGQDDDPPDDQQVSVV...</td>\n",
       "      <td>MNIFEMLRIDEGLRLKIYKDTEGYYTIGIGHLLTKSPSLNAAKSAA...</td>\n",
       "    </tr>\n",
       "    <tr>\n",
       "      <th>...</th>\n",
       "      <td>...</td>\n",
       "      <td>...</td>\n",
       "      <td>...</td>\n",
       "    </tr>\n",
       "    <tr>\n",
       "      <th>199485</th>\n",
       "      <td>pdb9msi.ent.gz</td>\n",
       "      <td>DPFKFWFFQAWQAAFHFDDVNGTDIDDDPPHAHGPVCSVVSGRWGF...</td>\n",
       "      <td>ANQASVVANQLIPINTALNLVMMRSEVVTPVGIPAEDIPRLVSMQV...</td>\n",
       "    </tr>\n",
       "    <tr>\n",
       "      <th>199487</th>\n",
       "      <td>pdb9pai.ent.gz_A</td>\n",
       "      <td>DDQLLVVLVALQLQLLLLLVLLVCVVVVQDDDDGDSNFVSVVLLLV...</td>\n",
       "      <td>VHHPPSYVAHLASDFGVRVFQQVAQASKDRNVVFSPYGVASVLAML...</td>\n",
       "    </tr>\n",
       "    <tr>\n",
       "      <th>199489</th>\n",
       "      <td>pdb9pcy.ent.gz_MODEL_1_A</td>\n",
       "      <td>DEWEQAPLPLDREIVVFEEEDEAFDKYKYFDRHVDFWFKFWDQVQD...</td>\n",
       "      <td>LEVLLGSGDGSLVFVPSEFSVPSGEKIVFKNNAGFPHNVVFDEDEI...</td>\n",
       "    </tr>\n",
       "    <tr>\n",
       "      <th>199490</th>\n",
       "      <td>pdb9pti.ent.gz</td>\n",
       "      <td>DDVCLDDDFDQDDAQDFDWWWFRDVVVLAIDIDGHRPDDGDDRTHR...</td>\n",
       "      <td>RPDFCLEPPYTGPCKARIIRYFYNAKAGLCQTFVYGGCRAKRNNFK...</td>\n",
       "    </tr>\n",
       "    <tr>\n",
       "      <th>199494</th>\n",
       "      <td>pdb9rub.ent.gz_A</td>\n",
       "      <td>DFLPLQEDQPCDVVVVVPPAQWKKWKKQWDWDPPDDPSGVLSVLQL...</td>\n",
       "      <td>DQSSRYVNLALKEEDLIAGGEHVLCAYIMKPKAGYGYVATAAHFAA...</td>\n",
       "    </tr>\n",
       "  </tbody>\n",
       "</table>\n",
       "<p>136341 rows × 3 columns</p>\n",
       "</div>"
      ],
      "text/plain": [
       "                            name  \\\n",
       "0                 pdb101m.ent.gz   \n",
       "1                 pdb102l.ent.gz   \n",
       "2                 pdb102m.ent.gz   \n",
       "3                 pdb103l.ent.gz   \n",
       "5               pdb104l.ent.gz_A   \n",
       "...                          ...   \n",
       "199485            pdb9msi.ent.gz   \n",
       "199487          pdb9pai.ent.gz_A   \n",
       "199489  pdb9pcy.ent.gz_MODEL_1_A   \n",
       "199490            pdb9pti.ent.gz   \n",
       "199494          pdb9rub.ent.gz_A   \n",
       "\n",
       "                                                      3Di  \\\n",
       "0       DADDVVLLVLQVVLVVVCVVPQLVLLLQLVLQLCVVPVVVLVLDPV...   \n",
       "1       DALVVLLCVVQPAAFFFDQDLVGFTAHGRGHGQDPDPDDVPRRQVS...   \n",
       "2       DADDVVLLCLQVVLVVVCVVPQLVLLLQLVLLLCVVPVVVLVLPPV...   \n",
       "3       DALLVLQCVVFPAAFFWDQDLVGFTDHGRRRGQDPPVSSQVSVCVL...   \n",
       "5       DAQVVLLCVVQPADFAWDAPLVGFTAHASRDGQDDDPPDDQQVSVV...   \n",
       "...                                                   ...   \n",
       "199485  DPFKFWFFQAWQAAFHFDDVNGTDIDDDPPHAHGPVCSVVSGRWGF...   \n",
       "199487  DDQLLVVLVALQLQLLLLLVLLVCVVVVQDDDDGDSNFVSVVLLLV...   \n",
       "199489  DEWEQAPLPLDREIVVFEEEDEAFDKYKYFDRHVDFWFKFWDQVQD...   \n",
       "199490  DDVCLDDDFDQDDAQDFDWWWFRDVVVLAIDIDGHRPDDGDDRTHR...   \n",
       "199494  DFLPLQEDQPCDVVVVVPPAQWKKWKKQWDWDPPDDPSGVLSVLQL...   \n",
       "\n",
       "                                                       AA  \n",
       "0       MVLSEGEWQLVLHVWAKVEADVAGHGQDILIRLFKSHPETLEKFDR...  \n",
       "1       MNIFEMLRIDEGLRLKIYKDTEGYYTIGIGHLLTKSPSLNAAAKSE...  \n",
       "2       MVLSEGEWQLVLHVWAKVEADVAGHGQDILIRLFKSHPETLEKFDR...  \n",
       "3       MNIFEMLRIDEGLRLKIYKDTEGYYTIGIGHLLTSLDAAKSELDKA...  \n",
       "5       MNIFEMLRIDEGLRLKIYKDTEGYYTIGIGHLLTKSPSLNAAKSAA...  \n",
       "...                                                   ...  \n",
       "199485  ANQASVVANQLIPINTALNLVMMRSEVVTPVGIPAEDIPRLVSMQV...  \n",
       "199487  VHHPPSYVAHLASDFGVRVFQQVAQASKDRNVVFSPYGVASVLAML...  \n",
       "199489  LEVLLGSGDGSLVFVPSEFSVPSGEKIVFKNNAGFPHNVVFDEDEI...  \n",
       "199490  RPDFCLEPPYTGPCKARIIRYFYNAKAGLCQTFVYGGCRAKRNNFK...  \n",
       "199494  DQSSRYVNLALKEEDLIAGGEHVLCAYIMKPKAGYGYVATAAHFAA...  \n",
       "\n",
       "[136341 rows x 3 columns]"
      ]
     },
     "execution_count": 12,
     "metadata": {},
     "output_type": "execute_result"
    }
   ],
   "source": [
    "df"
   ]
  },
  {
   "cell_type": "code",
   "execution_count": 40,
   "metadata": {},
   "outputs": [
    {
     "data": {
      "text/plain": [
       "<Axes: >"
      ]
     },
     "execution_count": 40,
     "metadata": {},
     "output_type": "execute_result"
    },
    {
     "data": {
      "image/png": "[encoded data removed]",
      "text/plain": [
       "<Figure size 640x480 with 1 Axes>"
      ]
     },
     "metadata": {},
     "output_type": "display_data"
    }
   ],
   "source": [
    "l = df[\"3Di\"].apply(lambda x: len(x))\n",
    "\n",
    "l[l < 128].hist()"
   ]
  },
  {
   "cell_type": "code",
   "execution_count": 53,
   "metadata": {},
   "outputs": [
    {
     "data": {
      "text/plain": [
       "<Axes: >"
      ]
     },
     "execution_count": 53,
     "metadata": {},
     "output_type": "execute_result"
    },
    {
     "data": {
      "image/png": "[encoded data removed]",
      "text/plain": [
       "<Figure size 640x480 with 1 Axes>"
      ]
     },
     "metadata": {},
     "output_type": "display_data"
    }
   ],
   "source": [
    "l[(l >= 64) & (l <= 2048)].hist()"
   ]
  },
  {
   "cell_type": "code",
   "execution_count": 68,
   "metadata": {},
   "outputs": [
    {
     "name": "stderr",
     "output_type": "stream",
     "text": [
      "/var/folders/lr/70kn5pjn69bdqbrtq53m3nch0000gn/T/ipykernel_22314/1349312777.py:1: UserWarning: Boolean Series key will be reindexed to match DataFrame index.\n",
      "  df = df[(l >= 64) & (l <= 2048)]\n"
     ]
    }
   ],
   "source": [
    "df = df[(l >= 64) & (l <= 2048)]"
   ]
  },
  {
   "cell_type": "code",
   "execution_count": 86,
   "metadata": {},
   "outputs": [],
   "source": [
    "df = df.sample(frac=1)"
   ]
  },
  {
   "cell_type": "code",
   "execution_count": 87,
   "metadata": {},
   "outputs": [],
   "source": [
    "df.to_parquet(\"./datasets/pdb-no-model-no-asm-64-2048.parquet\", index=False)"
   ]
  },
  {
   "cell_type": "code",
   "execution_count": 88,
   "metadata": {},
   "outputs": [],
   "source": [
    "df2 = pd.read_parquet(\"./datasets/pdb-no-model-no-asm-64-2048.parquet\")"
   ]
  },
  {
   "cell_type": "code",
   "execution_count": 89,
   "metadata": {},
   "outputs": [
    {
     "data": {
      "text/html": [
       "<div>\n",
       "<style scoped>\n",
       "    .dataframe tbody tr th:only-of-type {\n",
       "        vertical-align: middle;\n",
       "    }\n",
       "\n",
       "    .dataframe tbody tr th {\n",
       "        vertical-align: top;\n",
       "    }\n",
       "\n",
       "    .dataframe thead th {\n",
       "        text-align: right;\n",
       "    }\n",
       "</style>\n",
       "<table border=\"1\" class=\"dataframe\">\n",
       "  <thead>\n",
       "    <tr style=\"text-align: right;\">\n",
       "      <th></th>\n",
       "      <th>name</th>\n",
       "      <th>3Di</th>\n",
       "      <th>AA</th>\n",
       "    </tr>\n",
       "  </thead>\n",
       "  <tbody>\n",
       "    <tr>\n",
       "      <th>0</th>\n",
       "      <td>pdb1f76.ent.gz_A</td>\n",
       "      <td>DAVVVVLVVLVVDQVVVSLVVVVVVLLVPAPHPCLVVQADDAQFDW...</td>\n",
       "      <td>MYYPFVRKALFQLDPERAHEFTFQQLRRITGTPFEALVRQKVPAKP...</td>\n",
       "    </tr>\n",
       "    <tr>\n",
       "      <th>1</th>\n",
       "      <td>pdb4hn3.ent.gz_A</td>\n",
       "      <td>DWDDDQPDQLGATADPPADAALAPPVCVVQAQDPQQVCQVVSVQSN...</td>\n",
       "      <td>IMTKNQISSNYYKTVLPYKASKSRGLVVSNIYSRYDINELESGLMR...</td>\n",
       "    </tr>\n",
       "    <tr>\n",
       "      <th>2</th>\n",
       "      <td>pdb6r7p.ent.gz_A</td>\n",
       "      <td>DQDDDDCVLVVVLLVLLVPDPASLVSLVVNQLSCCQVFQANALSVL...</td>\n",
       "      <td>TEFEFPEELKTKLQEHINYFPKKRQAILLCLHEIQNYYGYIPPESL...</td>\n",
       "    </tr>\n",
       "    <tr>\n",
       "      <th>3</th>\n",
       "      <td>pdb7pqk.ent.gz</td>\n",
       "      <td>DWKWFWWAWPVDTDIAIDPQPLLLLQQAEKEFALPQVCLVVFADAA...</td>\n",
       "      <td>MGAVALFSARAVDIEVFTTRPDTLFGATYLVLAPEHDLVDELVAAS...</td>\n",
       "    </tr>\n",
       "    <tr>\n",
       "      <th>4</th>\n",
       "      <td>pdb2ztn.ent.gz</td>\n",
       "      <td>DFPDKFKDKDKADFFWDDALQFFKFWRDKDFAALQDARYAFKDFDV...</td>\n",
       "      <td>GAILRRQYNLSTSPLTSSVASGTNLVLYAAPLNPLLPLQDGTNTHI...</td>\n",
       "    </tr>\n",
       "    <tr>\n",
       "      <th>...</th>\n",
       "      <td>...</td>\n",
       "      <td>...</td>\n",
       "      <td>...</td>\n",
       "    </tr>\n",
       "    <tr>\n",
       "      <th>129322</th>\n",
       "      <td>pdb5fqo.ent.gz</td>\n",
       "      <td>DDDDCVVLVVVVVQQVVFCLNVVLLLVLLLLCLVQAAQWEEEEAAC...</td>\n",
       "      <td>LYYECYSDVSVHEEMIADQVRTEAYRLGILKNWAALRGKTVLDVGA...</td>\n",
       "    </tr>\n",
       "    <tr>\n",
       "      <th>129323</th>\n",
       "      <td>pdb3q1q.ent.gz_A</td>\n",
       "      <td>DCVLADDCVPCVVVQVVPWDWDDDLWKIKTKDFQPDFAEHEDEDED...</td>\n",
       "      <td>TRRERLRLRRDFLLIFKEGKSLQNEYFVVLFRKNGLDYSRLGIVVK...</td>\n",
       "    </tr>\n",
       "    <tr>\n",
       "      <th>129324</th>\n",
       "      <td>pdb6juu.ent.gz</td>\n",
       "      <td>DAEQEPVQKAWPPDPPPDDQQDKTWIARRVVRAIKIKGWHQAFDPV...</td>\n",
       "      <td>FVQIKFDDLQFFENCGGGSFGSVYRAKWISQDKEVAVKKLLKIEKE...</td>\n",
       "    </tr>\n",
       "    <tr>\n",
       "      <th>129325</th>\n",
       "      <td>pdb5t7f.ent.gz_A</td>\n",
       "      <td>DVVVLQVLLCVQLVHHPVVLVVVVDPQSVCLLVVLLVVLLVLLVVL...</td>\n",
       "      <td>VKKLINSQISLLIGKGLHEFDSLRDPEVNDFRTKMRQFCEEAAAHR...</td>\n",
       "    </tr>\n",
       "    <tr>\n",
       "      <th>129326</th>\n",
       "      <td>pdb5vu6.ent.gz_A</td>\n",
       "      <td>DFFAWDWDDDPLFTWIWTWDQDPRDTDIDIDRPDWAKWKWAFPDPP...</td>\n",
       "      <td>MILDTDYITEDGKPVIRIFKKENGEFKIEYDRTFEPYFYALLKDDS...</td>\n",
       "    </tr>\n",
       "  </tbody>\n",
       "</table>\n",
       "<p>129327 rows × 3 columns</p>\n",
       "</div>"
      ],
      "text/plain": [
       "                    name                                                3Di  \\\n",
       "0       pdb1f76.ent.gz_A  DAVVVVLVVLVVDQVVVSLVVVVVVLLVPAPHPCLVVQADDAQFDW...   \n",
       "1       pdb4hn3.ent.gz_A  DWDDDQPDQLGATADPPADAALAPPVCVVQAQDPQQVCQVVSVQSN...   \n",
       "2       pdb6r7p.ent.gz_A  DQDDDDCVLVVVLLVLLVPDPASLVSLVVNQLSCCQVFQANALSVL...   \n",
       "3         pdb7pqk.ent.gz  DWKWFWWAWPVDTDIAIDPQPLLLLQQAEKEFALPQVCLVVFADAA...   \n",
       "4         pdb2ztn.ent.gz  DFPDKFKDKDKADFFWDDALQFFKFWRDKDFAALQDARYAFKDFDV...   \n",
       "...                  ...                                                ...   \n",
       "129322    pdb5fqo.ent.gz  DDDDCVVLVVVVVQQVVFCLNVVLLLVLLLLCLVQAAQWEEEEAAC...   \n",
       "129323  pdb3q1q.ent.gz_A  DCVLADDCVPCVVVQVVPWDWDDDLWKIKTKDFQPDFAEHEDEDED...   \n",
       "129324    pdb6juu.ent.gz  DAEQEPVQKAWPPDPPPDDQQDKTWIARRVVRAIKIKGWHQAFDPV...   \n",
       "129325  pdb5t7f.ent.gz_A  DVVVLQVLLCVQLVHHPVVLVVVVDPQSVCLLVVLLVVLLVLLVVL...   \n",
       "129326  pdb5vu6.ent.gz_A  DFFAWDWDDDPLFTWIWTWDQDPRDTDIDIDRPDWAKWKWAFPDPP...   \n",
       "\n",
       "                                                       AA  \n",
       "0       MYYPFVRKALFQLDPERAHEFTFQQLRRITGTPFEALVRQKVPAKP...  \n",
       "1       IMTKNQISSNYYKTVLPYKASKSRGLVVSNIYSRYDINELESGLMR...  \n",
       "2       TEFEFPEELKTKLQEHINYFPKKRQAILLCLHEIQNYYGYIPPESL...  \n",
       "3       MGAVALFSARAVDIEVFTTRPDTLFGATYLVLAPEHDLVDELVAAS...  \n",
       "4       GAILRRQYNLSTSPLTSSVASGTNLVLYAAPLNPLLPLQDGTNTHI...  \n",
       "...                                                   ...  \n",
       "129322  LYYECYSDVSVHEEMIADQVRTEAYRLGILKNWAALRGKTVLDVGA...  \n",
       "129323  TRRERLRLRRDFLLIFKEGKSLQNEYFVVLFRKNGLDYSRLGIVVK...  \n",
       "129324  FVQIKFDDLQFFENCGGGSFGSVYRAKWISQDKEVAVKKLLKIEKE...  \n",
       "129325  VKKLINSQISLLIGKGLHEFDSLRDPEVNDFRTKMRQFCEEAAAHR...  \n",
       "129326  MILDTDYITEDGKPVIRIFKKENGEFKIEYDRTFEPYFYALLKDDS...  \n",
       "\n",
       "[129327 rows x 3 columns]"
      ]
     },
     "execution_count": 89,
     "metadata": {},
     "output_type": "execute_result"
    }
   ],
   "source": [
    "df2"
   ]
  },
  {
   "cell_type": "code",
   "execution_count": 101,
   "metadata": {},
   "outputs": [
    {
     "data": {
      "text/plain": [
       "<Axes: >"
      ]
     },
     "execution_count": 101,
     "metadata": {},
     "output_type": "execute_result"
    },
    {
     "data": {
      "image/png": "[encoded data removed]",
      "text/plain": [
       "<Figure size 640x480 with 1 Axes>"
      ]
     },
     "metadata": {},
     "output_type": "display_data"
    }
   ],
   "source": [
    "ratio = int(0.9 * len(df2))\n",
    "df2.loc[:ratio][\"3Di\"].apply(lambda x: len(x)).hist()\n",
    "df2.loc[ratio:][\"3Di\"].apply(lambda x: len(x)).hist()"
   ]
  }
 ],
 "metadata": {
  "kernelspec": {
   "display_name": "Python 3",
   "language": "python",
   "name": "python3"
  },
  "language_info": {
   "codemirror_mode": {
    "name": "ipython",
    "version": 3
   },
   "file_extension": ".py",
   "mimetype": "text/x-python",
   "name": "python",
   "nbconvert_exporter": "python",
   "pygments_lexer": "ipython3",
   "version": "3.11.7"
  }
 },
 "nbformat": 4,
 "nbformat_minor": 2
}
