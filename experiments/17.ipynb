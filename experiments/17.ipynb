{
 "cells": [
  {
   "cell_type": "code",
   "execution_count": 1,
   "metadata": {},
   "outputs": [
    {
     "data": {
      "text/plain": [
       "'2.2.1'"
      ]
     },
     "execution_count": 1,
     "metadata": {},
     "output_type": "execute_result"
    }
   ],
   "source": [
    "import pandas as pd\n",
    "import torch\n",
    "from train import load_checkpoint\n",
    "import data_process as dp\n",
    "torch.__version__"
   ]
  },
  {
   "cell_type": "code",
   "execution_count": 2,
   "metadata": {},
   "outputs": [],
   "source": [
    "model, _ = load_checkpoint(\"./\")"
   ]
  },
  {
   "cell_type": "code",
   "execution_count": 3,
   "metadata": {},
   "outputs": [
    {
     "data": {
      "text/plain": [
       "GPT(\n",
       "  (token_embedding_table): Embedding(20, 128)\n",
       "  (position_embedding_table): Embedding(128, 128)\n",
       "  (blocks): Sequential(\n",
       "    (0): Block(\n",
       "      (ln_1): LayerNorm((128,), eps=1e-05, elementwise_affine=True)\n",
       "      (attn): CausalSelfAttention(\n",
       "        (c_attn): Linear(in_features=128, out_features=384, bias=True)\n",
       "        (c_proj): Linear(in_features=128, out_features=128, bias=True)\n",
       "        (attn_dropout): Dropout(p=0.1, inplace=False)\n",
       "        (resid_dropout): Dropout(p=0.1, inplace=False)\n",
       "      )\n",
       "      (ln_2): LayerNorm((128,), eps=1e-05, elementwise_affine=True)\n",
       "      (mlp): Sequential(\n",
       "        (0): Linear(in_features=128, out_features=512, bias=True)\n",
       "        (1): ReLU()\n",
       "        (2): Linear(in_features=512, out_features=128, bias=True)\n",
       "        (3): Dropout(p=0.1, inplace=False)\n",
       "      )\n",
       "    )\n",
       "    (1): Block(\n",
       "      (ln_1): LayerNorm((128,), eps=1e-05, elementwise_affine=True)\n",
       "      (attn): CausalSelfAttention(\n",
       "        (c_attn): Linear(in_features=128, out_features=384, bias=True)\n",
       "        (c_proj): Linear(in_features=128, out_features=128, bias=True)\n",
       "        (attn_dropout): Dropout(p=0.1, inplace=False)\n",
       "        (resid_dropout): Dropout(p=0.1, inplace=False)\n",
       "      )\n",
       "      (ln_2): LayerNorm((128,), eps=1e-05, elementwise_affine=True)\n",
       "      (mlp): Sequential(\n",
       "        (0): Linear(in_features=128, out_features=512, bias=True)\n",
       "        (1): ReLU()\n",
       "        (2): Linear(in_features=512, out_features=128, bias=True)\n",
       "        (3): Dropout(p=0.1, inplace=False)\n",
       "      )\n",
       "    )\n",
       "    (2): Block(\n",
       "      (ln_1): LayerNorm((128,), eps=1e-05, elementwise_affine=True)\n",
       "      (attn): CausalSelfAttention(\n",
       "        (c_attn): Linear(in_features=128, out_features=384, bias=True)\n",
       "        (c_proj): Linear(in_features=128, out_features=128, bias=True)\n",
       "        (attn_dropout): Dropout(p=0.1, inplace=False)\n",
       "        (resid_dropout): Dropout(p=0.1, inplace=False)\n",
       "      )\n",
       "      (ln_2): LayerNorm((128,), eps=1e-05, elementwise_affine=True)\n",
       "      (mlp): Sequential(\n",
       "        (0): Linear(in_features=128, out_features=512, bias=True)\n",
       "        (1): ReLU()\n",
       "        (2): Linear(in_features=512, out_features=128, bias=True)\n",
       "        (3): Dropout(p=0.1, inplace=False)\n",
       "      )\n",
       "    )\n",
       "    (3): Block(\n",
       "      (ln_1): LayerNorm((128,), eps=1e-05, elementwise_affine=True)\n",
       "      (attn): CausalSelfAttention(\n",
       "        (c_attn): Linear(in_features=128, out_features=384, bias=True)\n",
       "        (c_proj): Linear(in_features=128, out_features=128, bias=True)\n",
       "        (attn_dropout): Dropout(p=0.1, inplace=False)\n",
       "        (resid_dropout): Dropout(p=0.1, inplace=False)\n",
       "      )\n",
       "      (ln_2): LayerNorm((128,), eps=1e-05, elementwise_affine=True)\n",
       "      (mlp): Sequential(\n",
       "        (0): Linear(in_features=128, out_features=512, bias=True)\n",
       "        (1): ReLU()\n",
       "        (2): Linear(in_features=512, out_features=128, bias=True)\n",
       "        (3): Dropout(p=0.1, inplace=False)\n",
       "      )\n",
       "    )\n",
       "  )\n",
       "  (ln_f): LayerNorm((128,), eps=1e-05, elementwise_affine=True)\n",
       "  (lm_head): Linear(in_features=128, out_features=20, bias=True)\n",
       ")"
      ]
     },
     "execution_count": 3,
     "metadata": {},
     "output_type": "execute_result"
    }
   ],
   "source": [
    "model"
   ]
  },
  {
   "cell_type": "code",
   "execution_count": 4,
   "metadata": {},
   "outputs": [],
   "source": [
    "df = pd.read_csv(\"./data-venome.csv\")"
   ]
  },
  {
   "cell_type": "code",
   "execution_count": 5,
   "metadata": {},
   "outputs": [
    {
     "data": {
      "text/html": [
       "<div>\n",
       "<style scoped>\n",
       "    .dataframe tbody tr th:only-of-type {\n",
       "        vertical-align: middle;\n",
       "    }\n",
       "\n",
       "    .dataframe tbody tr th {\n",
       "        vertical-align: top;\n",
       "    }\n",
       "\n",
       "    .dataframe thead th {\n",
       "        text-align: right;\n",
       "    }\n",
       "</style>\n",
       "<table border=\"1\" class=\"dataframe\">\n",
       "  <thead>\n",
       "    <tr style=\"text-align: right;\">\n",
       "      <th></th>\n",
       "      <th>name</th>\n",
       "      <th>3Di</th>\n",
       "    </tr>\n",
       "  </thead>\n",
       "  <tbody>\n",
       "    <tr>\n",
       "      <th>0</th>\n",
       "      <td>Gh_comp10207_c0_seq2.pdb</td>\n",
       "      <td>DWFQVLCVPHDQQLFWFWQDDPDDPVPTDTWGFPDKDADPQWDDCV...</td>\n",
       "    </tr>\n",
       "    <tr>\n",
       "      <th>1</th>\n",
       "      <td>Gh_comp1045_c0_seq1.pdb</td>\n",
       "      <td>DLQLQQDAQVVLLVVLVADLQQWAAPVSLVVQCVVAPWQAADDDDD...</td>\n",
       "    </tr>\n",
       "    <tr>\n",
       "      <th>2</th>\n",
       "      <td>Gh_comp10466_c0_seq1.pdb</td>\n",
       "      <td>DVVVVVVDDLVRNLVVVVVCCVVVVVVLVVPDDDDPLVVVVVVVVV...</td>\n",
       "    </tr>\n",
       "    <tr>\n",
       "      <th>3</th>\n",
       "      <td>Gh_comp1063_c0_seq1.pdb</td>\n",
       "      <td>DQFDFPVQLLPDPDPVSLVVSDDPPGDFDPDFFFAEEEEAAPQQQA...</td>\n",
       "    </tr>\n",
       "    <tr>\n",
       "      <th>4</th>\n",
       "      <td>Gh_comp1068_c0_seq5.pdb</td>\n",
       "      <td>DPPPDPDPPDQPDQDLQFDDDPVVLVVLLPDDDDQVFWWWAADPFQ...</td>\n",
       "    </tr>\n",
       "    <tr>\n",
       "      <th>...</th>\n",
       "      <td>...</td>\n",
       "      <td>...</td>\n",
       "    </tr>\n",
       "    <tr>\n",
       "      <th>381</th>\n",
       "      <td>Lh14_comp82_c1_seq1.pdb</td>\n",
       "      <td>DVVVVVVVVVVVVVLCVQAVQDPVLLVVLVVLLVVLLVVLLVVQPP...</td>\n",
       "    </tr>\n",
       "    <tr>\n",
       "      <th>382</th>\n",
       "      <td>Lh14_comp82_c1_seq3.pdb</td>\n",
       "      <td>DVPPLVPPDPPDDDDDDQPADDPVLLVLLVVLLVCLLVVLCVQCVP...</td>\n",
       "    </tr>\n",
       "    <tr>\n",
       "      <th>383</th>\n",
       "      <td>Lh14_comp835_c0_seq1.pdb</td>\n",
       "      <td>DDFFDFDDQDWFQWLVGIDGCLVVLAQAKEKEWEAFDFPDDLVLVQ...</td>\n",
       "    </tr>\n",
       "    <tr>\n",
       "      <th>384</th>\n",
       "      <td>Lh14_comp862_c0_seq1.pdb</td>\n",
       "      <td>DPPPVVVVVVVVVVVVVVLVVVQVVVVVAPPPDDDDDDDDDDDDDD...</td>\n",
       "    </tr>\n",
       "    <tr>\n",
       "      <th>385</th>\n",
       "      <td>Lh14_comp918_c0_seq1.pdb</td>\n",
       "      <td>DDDDPVVVVVVVVVVVVVVVVVVVVVVVVVVVVVVVVVVVVVVVVC...</td>\n",
       "    </tr>\n",
       "  </tbody>\n",
       "</table>\n",
       "<p>386 rows × 2 columns</p>\n",
       "</div>"
      ],
      "text/plain": [
       "                         name  \\\n",
       "0    Gh_comp10207_c0_seq2.pdb   \n",
       "1     Gh_comp1045_c0_seq1.pdb   \n",
       "2    Gh_comp10466_c0_seq1.pdb   \n",
       "3     Gh_comp1063_c0_seq1.pdb   \n",
       "4     Gh_comp1068_c0_seq5.pdb   \n",
       "..                        ...   \n",
       "381   Lh14_comp82_c1_seq1.pdb   \n",
       "382   Lh14_comp82_c1_seq3.pdb   \n",
       "383  Lh14_comp835_c0_seq1.pdb   \n",
       "384  Lh14_comp862_c0_seq1.pdb   \n",
       "385  Lh14_comp918_c0_seq1.pdb   \n",
       "\n",
       "                                                   3Di  \n",
       "0    DWFQVLCVPHDQQLFWFWQDDPDDPVPTDTWGFPDKDADPQWDDCV...  \n",
       "1    DLQLQQDAQVVLLVVLVADLQQWAAPVSLVVQCVVAPWQAADDDDD...  \n",
       "2    DVVVVVVDDLVRNLVVVVVCCVVVVVVLVVPDDDDPLVVVVVVVVV...  \n",
       "3    DQFDFPVQLLPDPDPVSLVVSDDPPGDFDPDFFFAEEEEAAPQQQA...  \n",
       "4    DPPPDPDPPDQPDQDLQFDDDPVVLVVLLPDDDDQVFWWWAADPFQ...  \n",
       "..                                                 ...  \n",
       "381  DVVVVVVVVVVVVVLCVQAVQDPVLLVVLVVLLVVLLVVLLVVQPP...  \n",
       "382  DVPPLVPPDPPDDDDDDQPADDPVLLVLLVVLLVCLLVVLCVQCVP...  \n",
       "383  DDFFDFDDQDWFQWLVGIDGCLVVLAQAKEKEWEAFDFPDDLVLVQ...  \n",
       "384  DPPPVVVVVVVVVVVVVVLVVVQVVVVVAPPPDDDDDDDDDDDDDD...  \n",
       "385  DDDDPVVVVVVVVVVVVVVVVVVVVVVVVVVVVVVVVVVVVVVVVC...  \n",
       "\n",
       "[386 rows x 2 columns]"
      ]
     },
     "execution_count": 5,
     "metadata": {},
     "output_type": "execute_result"
    }
   ],
   "source": [
    "df"
   ]
  },
  {
   "cell_type": "code",
   "execution_count": 6,
   "metadata": {},
   "outputs": [
    {
     "name": "stderr",
     "output_type": "stream",
     "text": [
      "/usr/local/lib/python3.11/site-packages/umap/distances.py:1063: NumbaDeprecationWarning: The 'nopython' keyword argument was not supplied to the 'numba.jit' decorator. The implicit default value for this argument is currently False, but it will be changed to True in Numba 0.59.0. See https://numba.readthedocs.io/en/stable/reference/deprecation.html#deprecation-of-object-mode-fall-back-behaviour-when-using-jit for details.\n",
      "  @numba.jit()\n",
      "/usr/local/lib/python3.11/site-packages/umap/distances.py:1071: NumbaDeprecationWarning: The 'nopython' keyword argument was not supplied to the 'numba.jit' decorator. The implicit default value for this argument is currently False, but it will be changed to True in Numba 0.59.0. See https://numba.readthedocs.io/en/stable/reference/deprecation.html#deprecation-of-object-mode-fall-back-behaviour-when-using-jit for details.\n",
      "  @numba.jit()\n",
      "/usr/local/lib/python3.11/site-packages/umap/distances.py:1086: NumbaDeprecationWarning: The 'nopython' keyword argument was not supplied to the 'numba.jit' decorator. The implicit default value for this argument is currently False, but it will be changed to True in Numba 0.59.0. See https://numba.readthedocs.io/en/stable/reference/deprecation.html#deprecation-of-object-mode-fall-back-behaviour-when-using-jit for details.\n",
      "  @numba.jit()\n",
      "/usr/local/lib/python3.11/site-packages/umap/umap_.py:660: NumbaDeprecationWarning: The 'nopython' keyword argument was not supplied to the 'numba.jit' decorator. The implicit default value for this argument is currently False, but it will be changed to True in Numba 0.59.0. See https://numba.readthedocs.io/en/stable/reference/deprecation.html#deprecation-of-object-mode-fall-back-behaviour-when-using-jit for details.\n",
      "  @numba.jit()\n"
     ]
    }
   ],
   "source": [
    "import umap\n",
    "\n",
    "mapper = umap.UMAP()"
   ]
  },
  {
   "cell_type": "code",
   "execution_count": 7,
   "metadata": {},
   "outputs": [],
   "source": [
    "def to_embedding(df):\n",
    "\twith torch.no_grad():\n",
    "\t\tres = []\n",
    "\t\tfor repr, name in zip(df[\"3Di\"], df[\"name\"]):\n",
    "\t\t\tseq = torch.tensor([dp.encode(repr)], dtype=torch.long)\n",
    "\t\t\tembeddings = model.seq_embeddings(seq)\n",
    "\t\t\tembeddings = embeddings.mean(0)\n",
    "\t\t\tres.append(embeddings)\n",
    "\t\treturn torch.stack(res)\n",
    "res = to_embedding(df)"
   ]
  },
  {
   "cell_type": "code",
   "execution_count": 8,
   "metadata": {},
   "outputs": [
    {
     "data": {
      "text/plain": [
       "tensor([[-0.4200,  0.8478,  1.3197,  ..., -1.2708,  2.8674,  1.3329],\n",
       "        [-0.5279,  0.2460, -0.6988,  ...,  0.7093, -1.0002,  1.1108],\n",
       "        [ 1.4241, -1.5072, -3.1751,  ...,  0.2127,  0.1738,  0.6897],\n",
       "        ...,\n",
       "        [-1.2491,  0.3644,  2.5135,  ...,  0.1585,  2.4529, -1.8874],\n",
       "        [ 0.4278,  0.9904,  3.0891,  ..., -0.5291,  3.0516,  1.9168],\n",
       "        [ 0.1902, -0.7184, -0.6209,  ..., -0.6845, -0.2742,  0.9537]])"
      ]
     },
     "execution_count": 8,
     "metadata": {},
     "output_type": "execute_result"
    }
   ],
   "source": [
    "res"
   ]
  },
  {
   "cell_type": "code",
   "execution_count": 9,
   "metadata": {},
   "outputs": [
    {
     "data": {
      "text/plain": [
       "<matplotlib.collections.PathCollection at 0x168ec9050>"
      ]
     },
     "execution_count": 9,
     "metadata": {},
     "output_type": "execute_result"
    },
    {
     "data": {
      "image/png": "[encoded data removed]",
      "text/plain": [
       "<Figure size 640x480 with 1 Axes>"
      ]
     },
     "metadata": {},
     "output_type": "display_data"
    }
   ],
   "source": [
    "import matplotlib.pyplot as plt\n",
    "\n",
    "embed2D = mapper.fit_transform(res)\n",
    "plt.scatter(embed2D[:, 0], embed2D[:, 1])"
   ]
  },
  {
   "cell_type": "code",
   "execution_count": 14,
   "metadata": {},
   "outputs": [],
   "source": [
    "df[\"x\"] = embed2D[:, 0]\n",
    "df[\"y\"] = embed2D[:, 1]"
   ]
  },
  {
   "cell_type": "code",
   "execution_count": 27,
   "metadata": {},
   "outputs": [
    {
     "data": {
      "application/vnd.jupyter.widget-view+json": {
       "model_id": "a3804ec8d76248d39347258995c7a54b",
       "version_major": 2,
       "version_minor": 0
      },
      "text/plain": [
       "HBox(children=(VBox(children=(Button(button_style='primary', icon='arrows', layout=Layout(width='36px'), style…"
      ]
     },
     "execution_count": 27,
     "metadata": {},
     "output_type": "execute_result"
    }
   ],
   "source": [
    "import jscatter\n",
    "scatter = jscatter.Scatter(data=df, x='x', y='y')\n",
    "scatter.opacity(by='density')\n",
    "scatter.height(480)\n",
    "scatter.show()"
   ]
  },
  {
   "cell_type": "code",
   "execution_count": 35,
   "metadata": {},
   "outputs": [
    {
     "data": {
      "text/html": [
       "<div>\n",
       "<style scoped>\n",
       "    .dataframe tbody tr th:only-of-type {\n",
       "        vertical-align: middle;\n",
       "    }\n",
       "\n",
       "    .dataframe tbody tr th {\n",
       "        vertical-align: top;\n",
       "    }\n",
       "\n",
       "    .dataframe thead th {\n",
       "        text-align: right;\n",
       "    }\n",
       "</style>\n",
       "<table border=\"1\" class=\"dataframe\">\n",
       "  <thead>\n",
       "    <tr style=\"text-align: right;\">\n",
       "      <th></th>\n",
       "      <th>name</th>\n",
       "      <th>3Di</th>\n",
       "      <th>x</th>\n",
       "      <th>y</th>\n",
       "    </tr>\n",
       "  </thead>\n",
       "  <tbody>\n",
       "    <tr>\n",
       "      <th>51</th>\n",
       "      <td>Gh_comp2027_c0_seq4.pdb</td>\n",
       "      <td>DVVVVVVVVVQVVLLQVVLVVLQVQQPPLCWHWDPPVTWIDRPQWI...</td>\n",
       "      <td>-2.547222</td>\n",
       "      <td>0.731166</td>\n",
       "    </tr>\n",
       "    <tr>\n",
       "      <th>48</th>\n",
       "      <td>Gh_comp2027_c0_seq10.pdb</td>\n",
       "      <td>DWDWDDPVPLDTDTDDDPPDDPVVVVVPPCPPPVCPDVVPDLSQHQ...</td>\n",
       "      <td>-2.538128</td>\n",
       "      <td>0.673332</td>\n",
       "    </tr>\n",
       "    <tr>\n",
       "      <th>111</th>\n",
       "      <td>Gh_comp6082_c0_seq1.pdb</td>\n",
       "      <td>DPFPEDEAPWFLLRLLCLLDDPFWHRDPSFWIDGVQFKIWGDHGSQ...</td>\n",
       "      <td>-2.484697</td>\n",
       "      <td>0.740491</td>\n",
       "    </tr>\n",
       "    <tr>\n",
       "      <th>47</th>\n",
       "      <td>Gh_comp2027_c0_seq1.pdb</td>\n",
       "      <td>DPLDPLNCVQVVVVVPLPPQQLVVQADCVAWADPDSAWIHGPQWIW...</td>\n",
       "      <td>-2.538275</td>\n",
       "      <td>0.622568</td>\n",
       "    </tr>\n",
       "    <tr>\n",
       "      <th>307</th>\n",
       "      <td>Lh14_comp2080_c0_seq1.pdb</td>\n",
       "      <td>DVVVVVVVVVVVVVVVVVVVQVVVVDDVVPPPVVVVPPDDDVPPPP...</td>\n",
       "      <td>-2.517319</td>\n",
       "      <td>0.645618</td>\n",
       "    </tr>\n",
       "    <tr>\n",
       "      <th>41</th>\n",
       "      <td>Gh_comp1786_c0_seq1.pdb</td>\n",
       "      <td>DDDDDDDDDDPDQPAPPLDPPPPVPPPVPQQEHQEYEDEPNDDADP...</td>\n",
       "      <td>-2.451281</td>\n",
       "      <td>0.791446</td>\n",
       "    </tr>\n",
       "    <tr>\n",
       "      <th>52</th>\n",
       "      <td>Gh_comp2027_c0_seq6.pdb</td>\n",
       "      <td>DAQEDADEQPLDQDDDFCNCVPVLNHAEYHDEQHAHAAAACSNCPN...</td>\n",
       "      <td>-2.444207</td>\n",
       "      <td>0.664249</td>\n",
       "    </tr>\n",
       "    <tr>\n",
       "      <th>96</th>\n",
       "      <td>Gh_comp4656_c0_seq5.pdb</td>\n",
       "      <td>DDPPDDDDDDDDDDDDDDPPPPDDQWDDDPFWTWGDDPQEIETEGD...</td>\n",
       "      <td>-2.497770</td>\n",
       "      <td>0.622737</td>\n",
       "    </tr>\n",
       "    <tr>\n",
       "      <th>50</th>\n",
       "      <td>Gh_comp2027_c0_seq2.pdb</td>\n",
       "      <td>DDDDDDDDDDDDDPPDPPPQFLCPDAPPVQWDDPDSFWIDGDQWIW...</td>\n",
       "      <td>-2.468803</td>\n",
       "      <td>0.603226</td>\n",
       "    </tr>\n",
       "    <tr>\n",
       "      <th>95</th>\n",
       "      <td>Gh_comp4656_c0_seq2.pdb</td>\n",
       "      <td>DAPEQDADADAALVVCQPVQQDAEYAHANYAYQAQADPPVDGDARH...</td>\n",
       "      <td>-2.418971</td>\n",
       "      <td>0.578911</td>\n",
       "    </tr>\n",
       "  </tbody>\n",
       "</table>\n",
       "</div>"
      ],
      "text/plain": [
       "                          name  \\\n",
       "51     Gh_comp2027_c0_seq4.pdb   \n",
       "48    Gh_comp2027_c0_seq10.pdb   \n",
       "111    Gh_comp6082_c0_seq1.pdb   \n",
       "47     Gh_comp2027_c0_seq1.pdb   \n",
       "307  Lh14_comp2080_c0_seq1.pdb   \n",
       "41     Gh_comp1786_c0_seq1.pdb   \n",
       "52     Gh_comp2027_c0_seq6.pdb   \n",
       "96     Gh_comp4656_c0_seq5.pdb   \n",
       "50     Gh_comp2027_c0_seq2.pdb   \n",
       "95     Gh_comp4656_c0_seq2.pdb   \n",
       "\n",
       "                                                   3Di         x         y  \n",
       "51   DVVVVVVVVVQVVLLQVVLVVLQVQQPPLCWHWDPPVTWIDRPQWI... -2.547222  0.731166  \n",
       "48   DWDWDDPVPLDTDTDDDPPDDPVVVVVPPCPPPVCPDVVPDLSQHQ... -2.538128  0.673332  \n",
       "111  DPFPEDEAPWFLLRLLCLLDDPFWHRDPSFWIDGVQFKIWGDHGSQ... -2.484697  0.740491  \n",
       "47   DPLDPLNCVQVVVVVPLPPQQLVVQADCVAWADPDSAWIHGPQWIW... -2.538275  0.622568  \n",
       "307  DVVVVVVVVVVVVVVVVVVVQVVVVDDVVPPPVVVVPPDDDVPPPP... -2.517319  0.645618  \n",
       "41   DDDDDDDDDDPDQPAPPLDPPPPVPPPVPQQEHQEYEDEPNDDADP... -2.451281  0.791446  \n",
       "52   DAQEDADEQPLDQDDDFCNCVPVLNHAEYHDEQHAHAAAACSNCPN... -2.444207  0.664249  \n",
       "96   DDPPDDDDDDDDDDDDDDPPPPDDQWDDDPFWTWGDDPQEIETEGD... -2.497770  0.622737  \n",
       "50   DDDDDDDDDDDDDPPDPPPQFLCPDAPPVQWDDPDSFWIDGDQWIW... -2.468803  0.603226  \n",
       "95   DAPEQDADADAALVVCQPVQQDAEYAHANYAYQAQADPPVDGDARH... -2.418971  0.578911  "
      ]
     },
     "execution_count": 35,
     "metadata": {},
     "output_type": "execute_result"
    }
   ],
   "source": [
    "select = scatter.selection()    \n",
    "df.loc[select.tolist()]"
   ]
  },
  {
   "cell_type": "code",
   "execution_count": 32,
   "metadata": {},
   "outputs": [
    {
     "data": {
      "text/html": [
       "<div>\n",
       "<style scoped>\n",
       "    .dataframe tbody tr th:only-of-type {\n",
       "        vertical-align: middle;\n",
       "    }\n",
       "\n",
       "    .dataframe tbody tr th {\n",
       "        vertical-align: top;\n",
       "    }\n",
       "\n",
       "    .dataframe thead th {\n",
       "        text-align: right;\n",
       "    }\n",
       "</style>\n",
       "<table border=\"1\" class=\"dataframe\">\n",
       "  <thead>\n",
       "    <tr style=\"text-align: right;\">\n",
       "      <th></th>\n",
       "      <th>name</th>\n",
       "      <th>3Di</th>\n",
       "      <th>x</th>\n",
       "      <th>y</th>\n",
       "    </tr>\n",
       "  </thead>\n",
       "  <tbody>\n",
       "    <tr>\n",
       "      <th>51</th>\n",
       "      <td>Gh_comp2027_c0_seq4.pdb</td>\n",
       "      <td>DVVVVVVVVVQVVLLQVVLVVLQVQQPPLCWHWDPPVTWIDRPQWI...</td>\n",
       "      <td>-2.547222</td>\n",
       "      <td>0.731166</td>\n",
       "    </tr>\n",
       "    <tr>\n",
       "      <th>47</th>\n",
       "      <td>Gh_comp2027_c0_seq1.pdb</td>\n",
       "      <td>DPLDPLNCVQVVVVVPLPPQQLVVQADCVAWADPDSAWIHGPQWIW...</td>\n",
       "      <td>-2.538275</td>\n",
       "      <td>0.622568</td>\n",
       "    </tr>\n",
       "    <tr>\n",
       "      <th>41</th>\n",
       "      <td>Gh_comp1786_c0_seq1.pdb</td>\n",
       "      <td>DDDDDDDDDDPDQPAPPLDPPPPVPPPVPQQEHQEYEDEPNDDADP...</td>\n",
       "      <td>-2.451281</td>\n",
       "      <td>0.791446</td>\n",
       "    </tr>\n",
       "    <tr>\n",
       "      <th>96</th>\n",
       "      <td>Gh_comp4656_c0_seq5.pdb</td>\n",
       "      <td>DDPPDDDDDDDDDDDDDDPPPPDDQWDDDPFWTWGDDPQEIETEGD...</td>\n",
       "      <td>-2.497770</td>\n",
       "      <td>0.622737</td>\n",
       "    </tr>\n",
       "    <tr>\n",
       "      <th>50</th>\n",
       "      <td>Gh_comp2027_c0_seq2.pdb</td>\n",
       "      <td>DDDDDDDDDDDDDPPDPPPQFLCPDAPPVQWDDPDSFWIDGDQWIW...</td>\n",
       "      <td>-2.468803</td>\n",
       "      <td>0.603226</td>\n",
       "    </tr>\n",
       "    <tr>\n",
       "      <th>119</th>\n",
       "      <td>Gh_comp6889_c0_seq1.pdb</td>\n",
       "      <td>DQEDEDEDVVDRPPVPVVLVDDPRHAEYEYEHDACVVVVVVNVVVC...</td>\n",
       "      <td>-2.596164</td>\n",
       "      <td>0.515908</td>\n",
       "    </tr>\n",
       "    <tr>\n",
       "      <th>95</th>\n",
       "      <td>Gh_comp4656_c0_seq2.pdb</td>\n",
       "      <td>DAPEQDADADAALVVCQPVQQDAEYAHANYAYQAQADPPVDGDARH...</td>\n",
       "      <td>-2.418971</td>\n",
       "      <td>0.578911</td>\n",
       "    </tr>\n",
       "  </tbody>\n",
       "</table>\n",
       "</div>"
      ],
      "text/plain": [
       "                        name  \\\n",
       "51   Gh_comp2027_c0_seq4.pdb   \n",
       "47   Gh_comp2027_c0_seq1.pdb   \n",
       "41   Gh_comp1786_c0_seq1.pdb   \n",
       "96   Gh_comp4656_c0_seq5.pdb   \n",
       "50   Gh_comp2027_c0_seq2.pdb   \n",
       "119  Gh_comp6889_c0_seq1.pdb   \n",
       "95   Gh_comp4656_c0_seq2.pdb   \n",
       "\n",
       "                                                   3Di         x         y  \n",
       "51   DVVVVVVVVVQVVLLQVVLVVLQVQQPPLCWHWDPPVTWIDRPQWI... -2.547222  0.731166  \n",
       "47   DPLDPLNCVQVVVVVPLPPQQLVVQADCVAWADPDSAWIHGPQWIW... -2.538275  0.622568  \n",
       "41   DDDDDDDDDDPDQPAPPLDPPPPVPPPVPQQEHQEYEDEPNDDADP... -2.451281  0.791446  \n",
       "96   DDPPDDDDDDDDDDDDDDPPPPDDQWDDDPFWTWGDDPQEIETEGD... -2.497770  0.622737  \n",
       "50   DDDDDDDDDDDDDPPDPPPQFLCPDAPPVQWDDPDSFWIDGDQWIW... -2.468803  0.603226  \n",
       "119  DQEDEDEDVVDRPPVPVVLVDDPRHAEYEYEHDACVVVVVVNVVVC... -2.596164  0.515908  \n",
       "95   DAPEQDADADAALVVCQPVQQDAEYAHANYAYQAQADPPVDGDARH... -2.418971  0.578911  "
      ]
     },
     "execution_count": 32,
     "metadata": {},
     "output_type": "execute_result"
    }
   ],
   "source": [
    "df.loc[[ 51,  47,  41,  96,  50, 119,  95]]"
   ]
  },
  {
   "cell_type": "code",
   "execution_count": null,
   "metadata": {},
   "outputs": [],
   "source": []
  }
 ],
 "metadata": {
  "kernelspec": {
   "display_name": "Python 3 (ipykernel)",
   "language": "python",
   "name": "python3"
  },
  "language_info": {
   "codemirror_mode": {
    "name": "ipython",
    "version": 3
   },
   "file_extension": ".py",
   "mimetype": "text/x-python",
   "name": "python",
   "nbconvert_exporter": "python",
   "pygments_lexer": "ipython3",
   "version": "3.11.7"
  }
 },
 "nbformat": 4,
 "nbformat_minor": 4
}
