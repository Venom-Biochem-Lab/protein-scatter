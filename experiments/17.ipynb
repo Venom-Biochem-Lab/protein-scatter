{
 "cells": [
  {
   "cell_type": "code",
   "execution_count": 19,
   "metadata": {},
   "outputs": [],
   "source": [
    "import pandas as pd\n",
    "import torch\n",
    "from train import load_checkpoint\n",
    "import data_process as dp\n",
    "torch.__version__\n",
    "device = \"cpu\""
   ]
  },
  {
   "cell_type": "code",
   "execution_count": 2,
   "metadata": {},
   "outputs": [],
   "source": [
    "model, _ = load_checkpoint(\"./\")"
   ]
  },
  {
   "cell_type": "code",
   "execution_count": 3,
   "metadata": {},
   "outputs": [
    {
     "data": {
      "text/plain": [
       "GPT(\n",
       "  (token_embedding_table): Embedding(20, 128)\n",
       "  (position_embedding_table): Embedding(128, 128)\n",
       "  (blocks): Sequential(\n",
       "    (0): Block(\n",
       "      (ln_1): LayerNorm((128,), eps=1e-05, elementwise_affine=True)\n",
       "      (attn): CausalSelfAttention(\n",
       "        (c_attn): Linear(in_features=128, out_features=384, bias=True)\n",
       "        (c_proj): Linear(in_features=128, out_features=128, bias=True)\n",
       "        (attn_dropout): Dropout(p=0.1, inplace=False)\n",
       "        (resid_dropout): Dropout(p=0.1, inplace=False)\n",
       "      )\n",
       "      (ln_2): LayerNorm((128,), eps=1e-05, elementwise_affine=True)\n",
       "      (mlp): Sequential(\n",
       "        (0): Linear(in_features=128, out_features=512, bias=True)\n",
       "        (1): ReLU()\n",
       "        (2): Linear(in_features=512, out_features=128, bias=True)\n",
       "        (3): Dropout(p=0.1, inplace=False)\n",
       "      )\n",
       "    )\n",
       "    (1): Block(\n",
       "      (ln_1): LayerNorm((128,), eps=1e-05, elementwise_affine=True)\n",
       "      (attn): CausalSelfAttention(\n",
       "        (c_attn): Linear(in_features=128, out_features=384, bias=True)\n",
       "        (c_proj): Linear(in_features=128, out_features=128, bias=True)\n",
       "        (attn_dropout): Dropout(p=0.1, inplace=False)\n",
       "        (resid_dropout): Dropout(p=0.1, inplace=False)\n",
       "      )\n",
       "      (ln_2): LayerNorm((128,), eps=1e-05, elementwise_affine=True)\n",
       "      (mlp): Sequential(\n",
       "        (0): Linear(in_features=128, out_features=512, bias=True)\n",
       "        (1): ReLU()\n",
       "        (2): Linear(in_features=512, out_features=128, bias=True)\n",
       "        (3): Dropout(p=0.1, inplace=False)\n",
       "      )\n",
       "    )\n",
       "    (2): Block(\n",
       "      (ln_1): LayerNorm((128,), eps=1e-05, elementwise_affine=True)\n",
       "      (attn): CausalSelfAttention(\n",
       "        (c_attn): Linear(in_features=128, out_features=384, bias=True)\n",
       "        (c_proj): Linear(in_features=128, out_features=128, bias=True)\n",
       "        (attn_dropout): Dropout(p=0.1, inplace=False)\n",
       "        (resid_dropout): Dropout(p=0.1, inplace=False)\n",
       "      )\n",
       "      (ln_2): LayerNorm((128,), eps=1e-05, elementwise_affine=True)\n",
       "      (mlp): Sequential(\n",
       "        (0): Linear(in_features=128, out_features=512, bias=True)\n",
       "        (1): ReLU()\n",
       "        (2): Linear(in_features=512, out_features=128, bias=True)\n",
       "        (3): Dropout(p=0.1, inplace=False)\n",
       "      )\n",
       "    )\n",
       "    (3): Block(\n",
       "      (ln_1): LayerNorm((128,), eps=1e-05, elementwise_affine=True)\n",
       "      (attn): CausalSelfAttention(\n",
       "        (c_attn): Linear(in_features=128, out_features=384, bias=True)\n",
       "        (c_proj): Linear(in_features=128, out_features=128, bias=True)\n",
       "        (attn_dropout): Dropout(p=0.1, inplace=False)\n",
       "        (resid_dropout): Dropout(p=0.1, inplace=False)\n",
       "      )\n",
       "      (ln_2): LayerNorm((128,), eps=1e-05, elementwise_affine=True)\n",
       "      (mlp): Sequential(\n",
       "        (0): Linear(in_features=128, out_features=512, bias=True)\n",
       "        (1): ReLU()\n",
       "        (2): Linear(in_features=512, out_features=128, bias=True)\n",
       "        (3): Dropout(p=0.1, inplace=False)\n",
       "      )\n",
       "    )\n",
       "  )\n",
       "  (ln_f): LayerNorm((128,), eps=1e-05, elementwise_affine=True)\n",
       "  (lm_head): Linear(in_features=128, out_features=20, bias=True)\n",
       ")"
      ]
     },
     "execution_count": 3,
     "metadata": {},
     "output_type": "execute_result"
    }
   ],
   "source": [
    "model"
   ]
  },
  {
   "cell_type": "code",
   "execution_count": 5,
   "metadata": {},
   "outputs": [],
   "source": [
    "df = pd.read_parquet(\"./datasets/pdb-no-model-no-asm.parquet\")"
   ]
  },
  {
   "cell_type": "code",
   "execution_count": 6,
   "metadata": {},
   "outputs": [
    {
     "data": {
      "text/html": [
       "<div>\n",
       "<style scoped>\n",
       "    .dataframe tbody tr th:only-of-type {\n",
       "        vertical-align: middle;\n",
       "    }\n",
       "\n",
       "    .dataframe tbody tr th {\n",
       "        vertical-align: top;\n",
       "    }\n",
       "\n",
       "    .dataframe thead th {\n",
       "        text-align: right;\n",
       "    }\n",
       "</style>\n",
       "<table border=\"1\" class=\"dataframe\">\n",
       "  <thead>\n",
       "    <tr style=\"text-align: right;\">\n",
       "      <th></th>\n",
       "      <th>name</th>\n",
       "      <th>3Di</th>\n",
       "      <th>AA</th>\n",
       "    </tr>\n",
       "  </thead>\n",
       "  <tbody>\n",
       "    <tr>\n",
       "      <th>0</th>\n",
       "      <td>pdb101m.ent.gz</td>\n",
       "      <td>DADDVVLLVLQVVLVVVCVVPQLVLLLQLVLQLCVVPVVVLVLDPV...</td>\n",
       "      <td>MVLSEGEWQLVLHVWAKVEADVAGHGQDILIRLFKSHPETLEKFDR...</td>\n",
       "    </tr>\n",
       "    <tr>\n",
       "      <th>1</th>\n",
       "      <td>pdb102l.ent.gz</td>\n",
       "      <td>DALVVLLCVVQPAAFFFDQDLVGFTAHGRGHGQDPDPDDVPRRQVS...</td>\n",
       "      <td>MNIFEMLRIDEGLRLKIYKDTEGYYTIGIGHLLTKSPSLNAAAKSE...</td>\n",
       "    </tr>\n",
       "    <tr>\n",
       "      <th>2</th>\n",
       "      <td>pdb102m.ent.gz</td>\n",
       "      <td>DADDVVLLCLQVVLVVVCVVPQLVLLLQLVLLLCVVPVVVLVLPPV...</td>\n",
       "      <td>MVLSEGEWQLVLHVWAKVEADVAGHGQDILIRLFKSHPETLEKFDR...</td>\n",
       "    </tr>\n",
       "    <tr>\n",
       "      <th>3</th>\n",
       "      <td>pdb103l.ent.gz</td>\n",
       "      <td>DALLVLQCVVFPAAFFWDQDLVGFTDHGRRRGQDPPVSSQVSVCVL...</td>\n",
       "      <td>MNIFEMLRIDEGLRLKIYKDTEGYYTIGIGHLLTSLDAAKSELDKA...</td>\n",
       "    </tr>\n",
       "    <tr>\n",
       "      <th>4</th>\n",
       "      <td>pdb103m.ent.gz</td>\n",
       "      <td>DADDVVLLVLQVVLVVVCVVPQLVLLLQLVLLLCVVPVVVQVLDPP...</td>\n",
       "      <td>MVLSEGEWQLVLHVWAKVEADVAGHGQDILIRLFKSHPETLEKFDR...</td>\n",
       "    </tr>\n",
       "    <tr>\n",
       "      <th>...</th>\n",
       "      <td>...</td>\n",
       "      <td>...</td>\n",
       "      <td>...</td>\n",
       "    </tr>\n",
       "    <tr>\n",
       "      <th>199493</th>\n",
       "      <td>pdb9rsa.ent.gz_A</td>\n",
       "      <td>DADLQRVCCLFAEDQPDQAQDDQCSCLVSCVVSPVLVPHQNFKGKH...</td>\n",
       "      <td>KETAAAKFERQHMDSSTSAASSSNYCNQMMKSRNLTKDRCKPVNTF...</td>\n",
       "    </tr>\n",
       "    <tr>\n",
       "      <th>199494</th>\n",
       "      <td>pdb9rub.ent.gz_A</td>\n",
       "      <td>DFLPLQEDQPCDVVVVVPPAQWKKWKKQWDWDPPDDPSGVLSVLQL...</td>\n",
       "      <td>DQSSRYVNLALKEEDLIAGGEHVLCAYIMKPKAGYGYVATAAHFAA...</td>\n",
       "    </tr>\n",
       "    <tr>\n",
       "      <th>199495</th>\n",
       "      <td>pdb9wga.ent.gz_A</td>\n",
       "      <td>DFADPVVVNDADPQQFWQALVRDGDDDCRGQNPRTGAGNRPFFDFA...</td>\n",
       "      <td>ERCGEQGSNMECPNNLCCSQYGYCGMGGDYCGKGCQNGACWTSKRC...</td>\n",
       "    </tr>\n",
       "    <tr>\n",
       "      <th>199496</th>\n",
       "      <td>pdb9xia.ent.gz</td>\n",
       "      <td>DDDAAALQVQAEEELCALQPQFADPPDDGLADGDQLLVVLVLCLVR...</td>\n",
       "      <td>MNYQPTPEDRFTFGLWTVGWQGRDPFGDATRRALDPVESVQRLAEL...</td>\n",
       "    </tr>\n",
       "    <tr>\n",
       "      <th>199497</th>\n",
       "      <td>pdb9xim.ent.gz_A</td>\n",
       "      <td>DAAALQQQAEEELCALQPQPADPPHHGLADGDQLLVVLVLCLVRHH...</td>\n",
       "      <td>VQATREDKFSFGLWTVGWQARDAFGDATRTALDPVEAVHKLAEIGA...</td>\n",
       "    </tr>\n",
       "  </tbody>\n",
       "</table>\n",
       "<p>199498 rows × 3 columns</p>\n",
       "</div>"
      ],
      "text/plain": [
       "                    name                                                3Di  \\\n",
       "0         pdb101m.ent.gz  DADDVVLLVLQVVLVVVCVVPQLVLLLQLVLQLCVVPVVVLVLDPV...   \n",
       "1         pdb102l.ent.gz  DALVVLLCVVQPAAFFFDQDLVGFTAHGRGHGQDPDPDDVPRRQVS...   \n",
       "2         pdb102m.ent.gz  DADDVVLLCLQVVLVVVCVVPQLVLLLQLVLLLCVVPVVVLVLPPV...   \n",
       "3         pdb103l.ent.gz  DALLVLQCVVFPAAFFWDQDLVGFTDHGRRRGQDPPVSSQVSVCVL...   \n",
       "4         pdb103m.ent.gz  DADDVVLLVLQVVLVVVCVVPQLVLLLQLVLLLCVVPVVVQVLDPP...   \n",
       "...                  ...                                                ...   \n",
       "199493  pdb9rsa.ent.gz_A  DADLQRVCCLFAEDQPDQAQDDQCSCLVSCVVSPVLVPHQNFKGKH...   \n",
       "199494  pdb9rub.ent.gz_A  DFLPLQEDQPCDVVVVVPPAQWKKWKKQWDWDPPDDPSGVLSVLQL...   \n",
       "199495  pdb9wga.ent.gz_A  DFADPVVVNDADPQQFWQALVRDGDDDCRGQNPRTGAGNRPFFDFA...   \n",
       "199496    pdb9xia.ent.gz  DDDAAALQVQAEEELCALQPQFADPPDDGLADGDQLLVVLVLCLVR...   \n",
       "199497  pdb9xim.ent.gz_A  DAAALQQQAEEELCALQPQPADPPHHGLADGDQLLVVLVLCLVRHH...   \n",
       "\n",
       "                                                       AA  \n",
       "0       MVLSEGEWQLVLHVWAKVEADVAGHGQDILIRLFKSHPETLEKFDR...  \n",
       "1       MNIFEMLRIDEGLRLKIYKDTEGYYTIGIGHLLTKSPSLNAAAKSE...  \n",
       "2       MVLSEGEWQLVLHVWAKVEADVAGHGQDILIRLFKSHPETLEKFDR...  \n",
       "3       MNIFEMLRIDEGLRLKIYKDTEGYYTIGIGHLLTSLDAAKSELDKA...  \n",
       "4       MVLSEGEWQLVLHVWAKVEADVAGHGQDILIRLFKSHPETLEKFDR...  \n",
       "...                                                   ...  \n",
       "199493  KETAAAKFERQHMDSSTSAASSSNYCNQMMKSRNLTKDRCKPVNTF...  \n",
       "199494  DQSSRYVNLALKEEDLIAGGEHVLCAYIMKPKAGYGYVATAAHFAA...  \n",
       "199495  ERCGEQGSNMECPNNLCCSQYGYCGMGGDYCGKGCQNGACWTSKRC...  \n",
       "199496  MNYQPTPEDRFTFGLWTVGWQGRDPFGDATRRALDPVESVQRLAEL...  \n",
       "199497  VQATREDKFSFGLWTVGWQARDAFGDATRTALDPVEAVHKLAEIGA...  \n",
       "\n",
       "[199498 rows x 3 columns]"
      ]
     },
     "execution_count": 6,
     "metadata": {},
     "output_type": "execute_result"
    }
   ],
   "source": [
    "df"
   ]
  },
  {
   "cell_type": "code",
   "execution_count": 7,
   "metadata": {},
   "outputs": [
    {
     "data": {
      "text/html": [
       "<div>\n",
       "<style scoped>\n",
       "    .dataframe tbody tr th:only-of-type {\n",
       "        vertical-align: middle;\n",
       "    }\n",
       "\n",
       "    .dataframe tbody tr th {\n",
       "        vertical-align: top;\n",
       "    }\n",
       "\n",
       "    .dataframe thead th {\n",
       "        text-align: right;\n",
       "    }\n",
       "</style>\n",
       "<table border=\"1\" class=\"dataframe\">\n",
       "  <thead>\n",
       "    <tr style=\"text-align: right;\">\n",
       "      <th></th>\n",
       "      <th>name</th>\n",
       "      <th>3Di</th>\n",
       "      <th>AA</th>\n",
       "    </tr>\n",
       "  </thead>\n",
       "  <tbody>\n",
       "    <tr>\n",
       "      <th>106891</th>\n",
       "      <td>pdb4zyp.ent.gz_A</td>\n",
       "      <td>DQWEKEAEQQALKMKIFRAWEWELPDKAKAKEKEFFADDDDDPDPA...</td>\n",
       "      <td>QNITEEFYQSTCSAVSKGYLSALRTGWYTSVITIELSNIKENKCNG...</td>\n",
       "    </tr>\n",
       "    <tr>\n",
       "      <th>88841</th>\n",
       "      <td>pdb4hor.ent.gz_A</td>\n",
       "      <td>DPVVVVVVLVVLLCVADAPVNLPQDPLLWDLLLLLVVLVVCVVFVV...</td>\n",
       "      <td>MSEIRKDTLKAILLELECHFTWNLLKEDIDLFEVEDTIGQQLEFLT...</td>\n",
       "    </tr>\n",
       "    <tr>\n",
       "      <th>111691</th>\n",
       "      <td>pdb5eku.ent.gz_A</td>\n",
       "      <td>DDPQAPCVVPDPPDDDDPVRGRDGVVLVCVCVQAVVLVVLLVLNVV...</td>\n",
       "      <td>RPPDAFVNRIDRNIPVPARLRHTPVSLIEAVNDFHYAMMNDEERNN...</td>\n",
       "    </tr>\n",
       "    <tr>\n",
       "      <th>162216</th>\n",
       "      <td>pdb6xxq.ent.gz_A</td>\n",
       "      <td>DAVVLVVQVVVLCCVQCPQQWAFKKWDDCVWPNDDFPQRATGMETE...</td>\n",
       "      <td>NTYEQINKVKKILRKHLKNNLIGTYMFGSGVESGLKPNSDLDFLVV...</td>\n",
       "    </tr>\n",
       "    <tr>\n",
       "      <th>198884</th>\n",
       "      <td>pdb8tn9.ent.gz</td>\n",
       "      <td>DEAAEWEKEWDKDFDALALDPDDDDDDDGDPDTIFIAMETADPPRD...</td>\n",
       "      <td>AQLRQFYVAAQGISWSYRPEPTNSSLNLSVTSFKKIVYREYEPYFK...</td>\n",
       "    </tr>\n",
       "    <tr>\n",
       "      <th>...</th>\n",
       "      <td>...</td>\n",
       "      <td>...</td>\n",
       "      <td>...</td>\n",
       "    </tr>\n",
       "    <tr>\n",
       "      <th>137789</th>\n",
       "      <td>pdb6btj.ent.gz_A</td>\n",
       "      <td>DAWAKDAAAEAEAQAKDKIKIADALVQLQPWKKWKWWAAVVGDIDT...</td>\n",
       "      <td>VQLVQSGAEVKKPGASVKVSCKASGYTLTRYYFHWVRQAPGQGFEW...</td>\n",
       "    </tr>\n",
       "    <tr>\n",
       "      <th>166090</th>\n",
       "      <td>pdb7bq5.ent.gz_A</td>\n",
       "      <td>DPPQFQPAEAEWEADPVGWWTKDKAWASYKYFYYYDQFLGKIKHQH...</td>\n",
       "      <td>IRCIGVSNRDFVEGMSGGTWVDVVLEHGGCVTVMAQDKPTVDIELV...</td>\n",
       "    </tr>\n",
       "    <tr>\n",
       "      <th>29671</th>\n",
       "      <td>pdb2bou.ent.gz</td>\n",
       "      <td>DAFDPLAEPQWGGPHNFWIAGHAQWDWPDRIDGDSPTDTHGDFPQV...</td>\n",
       "      <td>RGCARWCPQDSSCVNATACRCNPGFSSFSEIITTPMETCDDINECA...</td>\n",
       "    </tr>\n",
       "    <tr>\n",
       "      <th>29639</th>\n",
       "      <td>pdb2bnq.ent.gz_A</td>\n",
       "      <td>DKKKKKKKWKWKQDQVDPAIWIKMWIDIQPHTFWIATVVDDPLWID...</td>\n",
       "      <td>GSHSMRYFFTSVSRPGRGEPRFIAVGYVDDTQFVRFDSDAASQRME...</td>\n",
       "    </tr>\n",
       "    <tr>\n",
       "      <th>113958</th>\n",
       "      <td>pdb5gtc.ent.gz_A</td>\n",
       "      <td>DDDDDPPPVVVVVVVVVVPDDDQDDDLVVQVVVVVVVVCVVPPDDD...</td>\n",
       "      <td>PHRYRPGTVALREIRRYQKSTELLIRKLPFQRLVREIAQDFKTDLR...</td>\n",
       "    </tr>\n",
       "  </tbody>\n",
       "</table>\n",
       "<p>10000 rows × 3 columns</p>\n",
       "</div>"
      ],
      "text/plain": [
       "                    name                                                3Di  \\\n",
       "106891  pdb4zyp.ent.gz_A  DQWEKEAEQQALKMKIFRAWEWELPDKAKAKEKEFFADDDDDPDPA...   \n",
       "88841   pdb4hor.ent.gz_A  DPVVVVVVLVVLLCVADAPVNLPQDPLLWDLLLLLVVLVVCVVFVV...   \n",
       "111691  pdb5eku.ent.gz_A  DDPQAPCVVPDPPDDDDPVRGRDGVVLVCVCVQAVVLVVLLVLNVV...   \n",
       "162216  pdb6xxq.ent.gz_A  DAVVLVVQVVVLCCVQCPQQWAFKKWDDCVWPNDDFPQRATGMETE...   \n",
       "198884    pdb8tn9.ent.gz  DEAAEWEKEWDKDFDALALDPDDDDDDDGDPDTIFIAMETADPPRD...   \n",
       "...                  ...                                                ...   \n",
       "137789  pdb6btj.ent.gz_A  DAWAKDAAAEAEAQAKDKIKIADALVQLQPWKKWKWWAAVVGDIDT...   \n",
       "166090  pdb7bq5.ent.gz_A  DPPQFQPAEAEWEADPVGWWTKDKAWASYKYFYYYDQFLGKIKHQH...   \n",
       "29671     pdb2bou.ent.gz  DAFDPLAEPQWGGPHNFWIAGHAQWDWPDRIDGDSPTDTHGDFPQV...   \n",
       "29639   pdb2bnq.ent.gz_A  DKKKKKKKWKWKQDQVDPAIWIKMWIDIQPHTFWIATVVDDPLWID...   \n",
       "113958  pdb5gtc.ent.gz_A  DDDDDPPPVVVVVVVVVVPDDDQDDDLVVQVVVVVVVVCVVPPDDD...   \n",
       "\n",
       "                                                       AA  \n",
       "106891  QNITEEFYQSTCSAVSKGYLSALRTGWYTSVITIELSNIKENKCNG...  \n",
       "88841   MSEIRKDTLKAILLELECHFTWNLLKEDIDLFEVEDTIGQQLEFLT...  \n",
       "111691  RPPDAFVNRIDRNIPVPARLRHTPVSLIEAVNDFHYAMMNDEERNN...  \n",
       "162216  NTYEQINKVKKILRKHLKNNLIGTYMFGSGVESGLKPNSDLDFLVV...  \n",
       "198884  AQLRQFYVAAQGISWSYRPEPTNSSLNLSVTSFKKIVYREYEPYFK...  \n",
       "...                                                   ...  \n",
       "137789  VQLVQSGAEVKKPGASVKVSCKASGYTLTRYYFHWVRQAPGQGFEW...  \n",
       "166090  IRCIGVSNRDFVEGMSGGTWVDVVLEHGGCVTVMAQDKPTVDIELV...  \n",
       "29671   RGCARWCPQDSSCVNATACRCNPGFSSFSEIITTPMETCDDINECA...  \n",
       "29639   GSHSMRYFFTSVSRPGRGEPRFIAVGYVDDTQFVRFDSDAASQRME...  \n",
       "113958  PHRYRPGTVALREIRRYQKSTELLIRKLPFQRLVREIAQDFKTDLR...  \n",
       "\n",
       "[10000 rows x 3 columns]"
      ]
     },
     "execution_count": 7,
     "metadata": {},
     "output_type": "execute_result"
    }
   ],
   "source": [
    "small_df = df.sample(10_000)\n",
    "small_df"
   ]
  },
  {
   "cell_type": "code",
   "execution_count": 8,
   "metadata": {},
   "outputs": [
    {
     "name": "stderr",
     "output_type": "stream",
     "text": [
      "/usr/local/lib/python3.11/site-packages/umap/distances.py:1063: NumbaDeprecationWarning: The 'nopython' keyword argument was not supplied to the 'numba.jit' decorator. The implicit default value for this argument is currently False, but it will be changed to True in Numba 0.59.0. See https://numba.readthedocs.io/en/stable/reference/deprecation.html#deprecation-of-object-mode-fall-back-behaviour-when-using-jit for details.\n",
      "  @numba.jit()\n",
      "/usr/local/lib/python3.11/site-packages/umap/distances.py:1071: NumbaDeprecationWarning: The 'nopython' keyword argument was not supplied to the 'numba.jit' decorator. The implicit default value for this argument is currently False, but it will be changed to True in Numba 0.59.0. See https://numba.readthedocs.io/en/stable/reference/deprecation.html#deprecation-of-object-mode-fall-back-behaviour-when-using-jit for details.\n",
      "  @numba.jit()\n",
      "/usr/local/lib/python3.11/site-packages/umap/distances.py:1086: NumbaDeprecationWarning: The 'nopython' keyword argument was not supplied to the 'numba.jit' decorator. The implicit default value for this argument is currently False, but it will be changed to True in Numba 0.59.0. See https://numba.readthedocs.io/en/stable/reference/deprecation.html#deprecation-of-object-mode-fall-back-behaviour-when-using-jit for details.\n",
      "  @numba.jit()\n",
      "/usr/local/lib/python3.11/site-packages/umap/umap_.py:660: NumbaDeprecationWarning: The 'nopython' keyword argument was not supplied to the 'numba.jit' decorator. The implicit default value for this argument is currently False, but it will be changed to True in Numba 0.59.0. See https://numba.readthedocs.io/en/stable/reference/deprecation.html#deprecation-of-object-mode-fall-back-behaviour-when-using-jit for details.\n",
      "  @numba.jit()\n"
     ]
    }
   ],
   "source": [
    "import umap\n",
    "\n",
    "mapper = umap.UMAP()"
   ]
  },
  {
   "cell_type": "code",
   "execution_count": 14,
   "metadata": {},
   "outputs": [],
   "source": [
    "def to_embedding(df):\n",
    "    with torch.no_grad():\n",
    "        res = []\n",
    "        for repr, name in zip(df[\"3Di\"], df[\"name\"]):\n",
    "            seq = torch.tensor([dp.encode(repr)], dtype=torch.long, device=device)\n",
    "            embeddings = model.seq_embeddings(seq).detach().cpu()\n",
    "            if len(embeddings.shape) > 1:\n",
    "                embeddings = embeddings.mean(0)\n",
    "            res.append(embeddings)\n",
    "        return torch.stack(res)\n",
    "res = to_embedding(small_df)"
   ]
  },
  {
   "cell_type": "code",
   "execution_count": 17,
   "metadata": {},
   "outputs": [
    {
     "data": {
      "text/plain": [
       "torch.Size([10000, 128])"
      ]
     },
     "execution_count": 17,
     "metadata": {},
     "output_type": "execute_result"
    }
   ],
   "source": [
    "res.shape"
   ]
  },
  {
   "cell_type": "code",
   "execution_count": 18,
   "metadata": {},
   "outputs": [
    {
     "data": {
      "text/plain": [
       "<matplotlib.collections.PathCollection at 0x16faefdd0>"
      ]
     },
     "execution_count": 18,
     "metadata": {},
     "output_type": "execute_result"
    },
    {
     "data": {
      "image/png": "[encoded data removed]",
      "text/plain": [
       "<Figure size 640x480 with 1 Axes>"
      ]
     },
     "metadata": {},
     "output_type": "display_data"
    }
   ],
   "source": [
    "import matplotlib.pyplot as plt\n",
    "\n",
    "embed2D = mapper.fit_transform(res)\n",
    "plt.scatter(embed2D[:, 0], embed2D[:, 1])"
   ]
  }
 ],
 "metadata": {
  "kernelspec": {
   "display_name": "Python 3 (ipykernel)",
   "language": "python",
   "name": "python3"
  },
  "language_info": {
   "codemirror_mode": {
    "name": "ipython",
    "version": 3
   },
   "file_extension": ".py",
   "mimetype": "text/x-python",
   "name": "python",
   "nbconvert_exporter": "python",
   "pygments_lexer": "ipython3",
   "version": "3.11.7"
  }
 },
 "nbformat": 4,
 "nbformat_minor": 4
}
