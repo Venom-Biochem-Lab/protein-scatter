{
 "cells": [
  {
   "cell_type": "code",
   "execution_count": 31,
   "metadata": {
    "tags": []
   },
   "outputs": [],
   "source": [
    "import pandas as pd\n",
    "import torch\n",
    "from train import load_checkpoint\n",
    "import data_process as dp\n",
    "torch.__version__\n",
    "device = \"cuda\" if torch.cuda.is_available() else \"cpu\""
   ]
  },
  {
   "cell_type": "code",
   "execution_count": 32,
   "metadata": {
    "tags": []
   },
   "outputs": [],
   "source": [
    "model, _ = load_checkpoint(\"./\")"
   ]
  },
  {
   "cell_type": "code",
   "execution_count": 33,
   "metadata": {
    "tags": []
   },
   "outputs": [
    {
     "data": {
      "text/plain": [
       "GPT(\n",
       "  (token_embedding_table): Embedding(20, 128)\n",
       "  (position_embedding_table): Embedding(128, 128)\n",
       "  (blocks): Sequential(\n",
       "    (0): Block(\n",
       "      (ln_1): LayerNorm((128,), eps=1e-05, elementwise_affine=True)\n",
       "      (attn): CausalSelfAttention(\n",
       "        (c_attn): Linear(in_features=128, out_features=384, bias=True)\n",
       "        (c_proj): Linear(in_features=128, out_features=128, bias=True)\n",
       "        (attn_dropout): Dropout(p=0.1, inplace=False)\n",
       "        (resid_dropout): Dropout(p=0.1, inplace=False)\n",
       "      )\n",
       "      (ln_2): LayerNorm((128,), eps=1e-05, elementwise_affine=True)\n",
       "      (mlp): Sequential(\n",
       "        (0): Linear(in_features=128, out_features=512, bias=True)\n",
       "        (1): ReLU()\n",
       "        (2): Linear(in_features=512, out_features=128, bias=True)\n",
       "        (3): Dropout(p=0.1, inplace=False)\n",
       "      )\n",
       "    )\n",
       "    (1): Block(\n",
       "      (ln_1): LayerNorm((128,), eps=1e-05, elementwise_affine=True)\n",
       "      (attn): CausalSelfAttention(\n",
       "        (c_attn): Linear(in_features=128, out_features=384, bias=True)\n",
       "        (c_proj): Linear(in_features=128, out_features=128, bias=True)\n",
       "        (attn_dropout): Dropout(p=0.1, inplace=False)\n",
       "        (resid_dropout): Dropout(p=0.1, inplace=False)\n",
       "      )\n",
       "      (ln_2): LayerNorm((128,), eps=1e-05, elementwise_affine=True)\n",
       "      (mlp): Sequential(\n",
       "        (0): Linear(in_features=128, out_features=512, bias=True)\n",
       "        (1): ReLU()\n",
       "        (2): Linear(in_features=512, out_features=128, bias=True)\n",
       "        (3): Dropout(p=0.1, inplace=False)\n",
       "      )\n",
       "    )\n",
       "    (2): Block(\n",
       "      (ln_1): LayerNorm((128,), eps=1e-05, elementwise_affine=True)\n",
       "      (attn): CausalSelfAttention(\n",
       "        (c_attn): Linear(in_features=128, out_features=384, bias=True)\n",
       "        (c_proj): Linear(in_features=128, out_features=128, bias=True)\n",
       "        (attn_dropout): Dropout(p=0.1, inplace=False)\n",
       "        (resid_dropout): Dropout(p=0.1, inplace=False)\n",
       "      )\n",
       "      (ln_2): LayerNorm((128,), eps=1e-05, elementwise_affine=True)\n",
       "      (mlp): Sequential(\n",
       "        (0): Linear(in_features=128, out_features=512, bias=True)\n",
       "        (1): ReLU()\n",
       "        (2): Linear(in_features=512, out_features=128, bias=True)\n",
       "        (3): Dropout(p=0.1, inplace=False)\n",
       "      )\n",
       "    )\n",
       "    (3): Block(\n",
       "      (ln_1): LayerNorm((128,), eps=1e-05, elementwise_affine=True)\n",
       "      (attn): CausalSelfAttention(\n",
       "        (c_attn): Linear(in_features=128, out_features=384, bias=True)\n",
       "        (c_proj): Linear(in_features=128, out_features=128, bias=True)\n",
       "        (attn_dropout): Dropout(p=0.1, inplace=False)\n",
       "        (resid_dropout): Dropout(p=0.1, inplace=False)\n",
       "      )\n",
       "      (ln_2): LayerNorm((128,), eps=1e-05, elementwise_affine=True)\n",
       "      (mlp): Sequential(\n",
       "        (0): Linear(in_features=128, out_features=512, bias=True)\n",
       "        (1): ReLU()\n",
       "        (2): Linear(in_features=512, out_features=128, bias=True)\n",
       "        (3): Dropout(p=0.1, inplace=False)\n",
       "      )\n",
       "    )\n",
       "  )\n",
       "  (ln_f): LayerNorm((128,), eps=1e-05, elementwise_affine=True)\n",
       "  (lm_head): Linear(in_features=128, out_features=20, bias=True)\n",
       ")"
      ]
     },
     "execution_count": 33,
     "metadata": {},
     "output_type": "execute_result"
    }
   ],
   "source": [
    "model.to(device)\n",
    "model.eval()"
   ]
  },
  {
   "cell_type": "code",
   "execution_count": 34,
   "metadata": {
    "tags": []
   },
   "outputs": [],
   "source": [
    "df = pd.read_parquet(\"./datasets/pdb-no-model-no-asm-64-2048.parquet\")"
   ]
  },
  {
   "cell_type": "code",
   "execution_count": 35,
   "metadata": {
    "tags": []
   },
   "outputs": [
    {
     "data": {
      "text/html": [
       "<div>\n",
       "<style scoped>\n",
       "    .dataframe tbody tr th:only-of-type {\n",
       "        vertical-align: middle;\n",
       "    }\n",
       "\n",
       "    .dataframe tbody tr th {\n",
       "        vertical-align: top;\n",
       "    }\n",
       "\n",
       "    .dataframe thead th {\n",
       "        text-align: right;\n",
       "    }\n",
       "</style>\n",
       "<table border=\"1\" class=\"dataframe\">\n",
       "  <thead>\n",
       "    <tr style=\"text-align: right;\">\n",
       "      <th></th>\n",
       "      <th>name</th>\n",
       "      <th>3Di</th>\n",
       "      <th>AA</th>\n",
       "    </tr>\n",
       "  </thead>\n",
       "  <tbody>\n",
       "    <tr>\n",
       "      <th>0</th>\n",
       "      <td>pdb1f76.ent.gz_A</td>\n",
       "      <td>DAVVVVLVVLVVDQVVVSLVVVVVVLLVPAPHPCLVVQADDAQFDW...</td>\n",
       "      <td>MYYPFVRKALFQLDPERAHEFTFQQLRRITGTPFEALVRQKVPAKP...</td>\n",
       "    </tr>\n",
       "    <tr>\n",
       "      <th>1</th>\n",
       "      <td>pdb4hn3.ent.gz_A</td>\n",
       "      <td>DWDDDQPDQLGATADPPADAALAPPVCVVQAQDPQQVCQVVSVQSN...</td>\n",
       "      <td>IMTKNQISSNYYKTVLPYKASKSRGLVVSNIYSRYDINELESGLMR...</td>\n",
       "    </tr>\n",
       "    <tr>\n",
       "      <th>2</th>\n",
       "      <td>pdb6r7p.ent.gz_A</td>\n",
       "      <td>DQDDDDCVLVVVLLVLLVPDPASLVSLVVNQLSCCQVFQANALSVL...</td>\n",
       "      <td>TEFEFPEELKTKLQEHINYFPKKRQAILLCLHEIQNYYGYIPPESL...</td>\n",
       "    </tr>\n",
       "    <tr>\n",
       "      <th>3</th>\n",
       "      <td>pdb7pqk.ent.gz</td>\n",
       "      <td>DWKWFWWAWPVDTDIAIDPQPLLLLQQAEKEFALPQVCLVVFADAA...</td>\n",
       "      <td>MGAVALFSARAVDIEVFTTRPDTLFGATYLVLAPEHDLVDELVAAS...</td>\n",
       "    </tr>\n",
       "    <tr>\n",
       "      <th>4</th>\n",
       "      <td>pdb2ztn.ent.gz</td>\n",
       "      <td>DFPDKFKDKDKADFFWDDALQFFKFWRDKDFAALQDARYAFKDFDV...</td>\n",
       "      <td>GAILRRQYNLSTSPLTSSVASGTNLVLYAAPLNPLLPLQDGTNTHI...</td>\n",
       "    </tr>\n",
       "    <tr>\n",
       "      <th>...</th>\n",
       "      <td>...</td>\n",
       "      <td>...</td>\n",
       "      <td>...</td>\n",
       "    </tr>\n",
       "    <tr>\n",
       "      <th>129322</th>\n",
       "      <td>pdb5fqo.ent.gz</td>\n",
       "      <td>DDDDCVVLVVVVVQQVVFCLNVVLLLVLLLLCLVQAAQWEEEEAAC...</td>\n",
       "      <td>LYYECYSDVSVHEEMIADQVRTEAYRLGILKNWAALRGKTVLDVGA...</td>\n",
       "    </tr>\n",
       "    <tr>\n",
       "      <th>129323</th>\n",
       "      <td>pdb3q1q.ent.gz_A</td>\n",
       "      <td>DCVLADDCVPCVVVQVVPWDWDDDLWKIKTKDFQPDFAEHEDEDED...</td>\n",
       "      <td>TRRERLRLRRDFLLIFKEGKSLQNEYFVVLFRKNGLDYSRLGIVVK...</td>\n",
       "    </tr>\n",
       "    <tr>\n",
       "      <th>129324</th>\n",
       "      <td>pdb6juu.ent.gz</td>\n",
       "      <td>DAEQEPVQKAWPPDPPPDDQQDKTWIARRVVRAIKIKGWHQAFDPV...</td>\n",
       "      <td>FVQIKFDDLQFFENCGGGSFGSVYRAKWISQDKEVAVKKLLKIEKE...</td>\n",
       "    </tr>\n",
       "    <tr>\n",
       "      <th>129325</th>\n",
       "      <td>pdb5t7f.ent.gz_A</td>\n",
       "      <td>DVVVLQVLLCVQLVHHPVVLVVVVDPQSVCLLVVLLVVLLVLLVVL...</td>\n",
       "      <td>VKKLINSQISLLIGKGLHEFDSLRDPEVNDFRTKMRQFCEEAAAHR...</td>\n",
       "    </tr>\n",
       "    <tr>\n",
       "      <th>129326</th>\n",
       "      <td>pdb5vu6.ent.gz_A</td>\n",
       "      <td>DFFAWDWDDDPLFTWIWTWDQDPRDTDIDIDRPDWAKWKWAFPDPP...</td>\n",
       "      <td>MILDTDYITEDGKPVIRIFKKENGEFKIEYDRTFEPYFYALLKDDS...</td>\n",
       "    </tr>\n",
       "  </tbody>\n",
       "</table>\n",
       "<p>129327 rows × 3 columns</p>\n",
       "</div>"
      ],
      "text/plain": [
       "                    name                                                3Di  \\\n",
       "0       pdb1f76.ent.gz_A  DAVVVVLVVLVVDQVVVSLVVVVVVLLVPAPHPCLVVQADDAQFDW...   \n",
       "1       pdb4hn3.ent.gz_A  DWDDDQPDQLGATADPPADAALAPPVCVVQAQDPQQVCQVVSVQSN...   \n",
       "2       pdb6r7p.ent.gz_A  DQDDDDCVLVVVLLVLLVPDPASLVSLVVNQLSCCQVFQANALSVL...   \n",
       "3         pdb7pqk.ent.gz  DWKWFWWAWPVDTDIAIDPQPLLLLQQAEKEFALPQVCLVVFADAA...   \n",
       "4         pdb2ztn.ent.gz  DFPDKFKDKDKADFFWDDALQFFKFWRDKDFAALQDARYAFKDFDV...   \n",
       "...                  ...                                                ...   \n",
       "129322    pdb5fqo.ent.gz  DDDDCVVLVVVVVQQVVFCLNVVLLLVLLLLCLVQAAQWEEEEAAC...   \n",
       "129323  pdb3q1q.ent.gz_A  DCVLADDCVPCVVVQVVPWDWDDDLWKIKTKDFQPDFAEHEDEDED...   \n",
       "129324    pdb6juu.ent.gz  DAEQEPVQKAWPPDPPPDDQQDKTWIARRVVRAIKIKGWHQAFDPV...   \n",
       "129325  pdb5t7f.ent.gz_A  DVVVLQVLLCVQLVHHPVVLVVVVDPQSVCLLVVLLVVLLVLLVVL...   \n",
       "129326  pdb5vu6.ent.gz_A  DFFAWDWDDDPLFTWIWTWDQDPRDTDIDIDRPDWAKWKWAFPDPP...   \n",
       "\n",
       "                                                       AA  \n",
       "0       MYYPFVRKALFQLDPERAHEFTFQQLRRITGTPFEALVRQKVPAKP...  \n",
       "1       IMTKNQISSNYYKTVLPYKASKSRGLVVSNIYSRYDINELESGLMR...  \n",
       "2       TEFEFPEELKTKLQEHINYFPKKRQAILLCLHEIQNYYGYIPPESL...  \n",
       "3       MGAVALFSARAVDIEVFTTRPDTLFGATYLVLAPEHDLVDELVAAS...  \n",
       "4       GAILRRQYNLSTSPLTSSVASGTNLVLYAAPLNPLLPLQDGTNTHI...  \n",
       "...                                                   ...  \n",
       "129322  LYYECYSDVSVHEEMIADQVRTEAYRLGILKNWAALRGKTVLDVGA...  \n",
       "129323  TRRERLRLRRDFLLIFKEGKSLQNEYFVVLFRKNGLDYSRLGIVVK...  \n",
       "129324  FVQIKFDDLQFFENCGGGSFGSVYRAKWISQDKEVAVKKLLKIEKE...  \n",
       "129325  VKKLINSQISLLIGKGLHEFDSLRDPEVNDFRTKMRQFCEEAAAHR...  \n",
       "129326  MILDTDYITEDGKPVIRIFKKENGEFKIEYDRTFEPYFYALLKDDS...  \n",
       "\n",
       "[129327 rows x 3 columns]"
      ]
     },
     "execution_count": 35,
     "metadata": {},
     "output_type": "execute_result"
    }
   ],
   "source": [
    "df"
   ]
  },
  {
   "cell_type": "code",
   "execution_count": 55,
   "metadata": {
    "tags": []
   },
   "outputs": [
    {
     "data": {
      "text/html": [
       "<div>\n",
       "<style scoped>\n",
       "    .dataframe tbody tr th:only-of-type {\n",
       "        vertical-align: middle;\n",
       "    }\n",
       "\n",
       "    .dataframe tbody tr th {\n",
       "        vertical-align: top;\n",
       "    }\n",
       "\n",
       "    .dataframe thead th {\n",
       "        text-align: right;\n",
       "    }\n",
       "</style>\n",
       "<table border=\"1\" class=\"dataframe\">\n",
       "  <thead>\n",
       "    <tr style=\"text-align: right;\">\n",
       "      <th></th>\n",
       "      <th>name</th>\n",
       "      <th>3Di</th>\n",
       "      <th>AA</th>\n",
       "    </tr>\n",
       "  </thead>\n",
       "  <tbody>\n",
       "    <tr>\n",
       "      <th>71931</th>\n",
       "      <td>pdb4po4.ent.gz_A</td>\n",
       "      <td>DAQEACGDDLWGFHPADVPGFGETGNAPSQDQAQDPDDYLRHAAYA...</td>\n",
       "      <td>ACFAAGKDDLCTCSNKTESSPETVDCSSKKLTTVPTGIPTSTEKLQ...</td>\n",
       "    </tr>\n",
       "    <tr>\n",
       "      <th>56099</th>\n",
       "      <td>pdb1tti.ent.gz</td>\n",
       "      <td>DAAAFEAEEDECLVVVVLVLVQPDDDDDGHAYEYEDEPVCVVVVVV...</td>\n",
       "      <td>SKPQPIAAANWKSLSELIDLFNSTSINHDVQCVVASTFVHLAMTKE...</td>\n",
       "    </tr>\n",
       "    <tr>\n",
       "      <th>17381</th>\n",
       "      <td>pdb5x1m.ent.gz_A</td>\n",
       "      <td>DDDWFLLVLDVPPPQPQQCQAFFQPWFLAPDDFFLFDPDLQVVLVC...</td>\n",
       "      <td>SAPTNLEQVLAAGGNTVEMLRNSQIGAYVYPVVAPEFSNWRTEQWA...</td>\n",
       "    </tr>\n",
       "    <tr>\n",
       "      <th>118856</th>\n",
       "      <td>pdb6qzr.ent.gz_A</td>\n",
       "      <td>DVLQPPDLVVLCVVLVVCVVVVVLVSNQVSLLSNLVVQDADDPVSL...</td>\n",
       "      <td>GAMGSMERASLIQKAKLAEQAERYEDMAAFMKGAVEKGEELSCEER...</td>\n",
       "    </tr>\n",
       "    <tr>\n",
       "      <th>82759</th>\n",
       "      <td>pdb5co4.ent.gz_A</td>\n",
       "      <td>DLFEEEEEEEQAADLLLQLLLQLVCLVSLYAYEYEDDHNDDPPDPS...</td>\n",
       "      <td>GPHMLHLVLYQPEIPQNAGNVARTAAALGWPLHLIRPLGFLLSSPK...</td>\n",
       "    </tr>\n",
       "    <tr>\n",
       "      <th>...</th>\n",
       "      <td>...</td>\n",
       "      <td>...</td>\n",
       "      <td>...</td>\n",
       "    </tr>\n",
       "    <tr>\n",
       "      <th>118666</th>\n",
       "      <td>pdb8ugq.ent.gz_A</td>\n",
       "      <td>DPQDPPPPHFFQKDKDFADDPRWDWADQQWDKDFPPFAFDDDDSSH...</td>\n",
       "      <td>RAGSKADRPSLQIQTLQHAGTTMITVPSGGVCDLINTYARGSDEGN...</td>\n",
       "    </tr>\n",
       "    <tr>\n",
       "      <th>80356</th>\n",
       "      <td>pdb3hn8.ent.gz_A</td>\n",
       "      <td>DVLWKKWKWAWAADPVQQKTKIWGFKIANFAADDPVRFFFKKKWKD...</td>\n",
       "      <td>GAPCGRISFALRYLYGSDQLVVRILQALDLPAKDSNGFSDPYVKIY...</td>\n",
       "    </tr>\n",
       "    <tr>\n",
       "      <th>94217</th>\n",
       "      <td>pdb3wr9.ent.gz_A</td>\n",
       "      <td>DAEFFAKEWALDCVQVCCLVVVVCVPPLPVVLLVQQVVLLVVCVVV...</td>\n",
       "      <td>AKIIGGFAVSHTPTIAFAHDANKYDDPVWAPIFQGFEPVKQWLAEQ...</td>\n",
       "    </tr>\n",
       "    <tr>\n",
       "      <th>13183</th>\n",
       "      <td>pdb6zgg.ent.gz_A</td>\n",
       "      <td>DADAFPPAAEDDWDKDWDADDWAEDPDDDFDAQDKDWDWDWTADHG...</td>\n",
       "      <td>QCVNLTTRTQLPPAYTNSFTRGVYYPDKVFRSSVLHSTQDLFLPFF...</td>\n",
       "    </tr>\n",
       "    <tr>\n",
       "      <th>43399</th>\n",
       "      <td>pdb8bdq.ent.gz_A</td>\n",
       "      <td>DAFAQAQPVLLVVLLVCVVVPPPVSVVLLVLLVVLLVVLLVDDAAF...</td>\n",
       "      <td>APLGPFNATLLEQLKNDYQKGEKEVTRYIELQEKVAEKYIKMTPLS...</td>\n",
       "    </tr>\n",
       "  </tbody>\n",
       "</table>\n",
       "<p>50000 rows × 3 columns</p>\n",
       "</div>"
      ],
      "text/plain": [
       "                    name                                                3Di  \\\n",
       "71931   pdb4po4.ent.gz_A  DAQEACGDDLWGFHPADVPGFGETGNAPSQDQAQDPDDYLRHAAYA...   \n",
       "56099     pdb1tti.ent.gz  DAAAFEAEEDECLVVVVLVLVQPDDDDDGHAYEYEDEPVCVVVVVV...   \n",
       "17381   pdb5x1m.ent.gz_A  DDDWFLLVLDVPPPQPQQCQAFFQPWFLAPDDFFLFDPDLQVVLVC...   \n",
       "118856  pdb6qzr.ent.gz_A  DVLQPPDLVVLCVVLVVCVVVVVLVSNQVSLLSNLVVQDADDPVSL...   \n",
       "82759   pdb5co4.ent.gz_A  DLFEEEEEEEQAADLLLQLLLQLVCLVSLYAYEYEDDHNDDPPDPS...   \n",
       "...                  ...                                                ...   \n",
       "118666  pdb8ugq.ent.gz_A  DPQDPPPPHFFQKDKDFADDPRWDWADQQWDKDFPPFAFDDDDSSH...   \n",
       "80356   pdb3hn8.ent.gz_A  DVLWKKWKWAWAADPVQQKTKIWGFKIANFAADDPVRFFFKKKWKD...   \n",
       "94217   pdb3wr9.ent.gz_A  DAEFFAKEWALDCVQVCCLVVVVCVPPLPVVLLVQQVVLLVVCVVV...   \n",
       "13183   pdb6zgg.ent.gz_A  DADAFPPAAEDDWDKDWDADDWAEDPDDDFDAQDKDWDWDWTADHG...   \n",
       "43399   pdb8bdq.ent.gz_A  DAFAQAQPVLLVVLLVCVVVPPPVSVVLLVLLVVLLVVLLVDDAAF...   \n",
       "\n",
       "                                                       AA  \n",
       "71931   ACFAAGKDDLCTCSNKTESSPETVDCSSKKLTTVPTGIPTSTEKLQ...  \n",
       "56099   SKPQPIAAANWKSLSELIDLFNSTSINHDVQCVVASTFVHLAMTKE...  \n",
       "17381   SAPTNLEQVLAAGGNTVEMLRNSQIGAYVYPVVAPEFSNWRTEQWA...  \n",
       "118856  GAMGSMERASLIQKAKLAEQAERYEDMAAFMKGAVEKGEELSCEER...  \n",
       "82759   GPHMLHLVLYQPEIPQNAGNVARTAAALGWPLHLIRPLGFLLSSPK...  \n",
       "...                                                   ...  \n",
       "118666  RAGSKADRPSLQIQTLQHAGTTMITVPSGGVCDLINTYARGSDEGN...  \n",
       "80356   GAPCGRISFALRYLYGSDQLVVRILQALDLPAKDSNGFSDPYVKIY...  \n",
       "94217   AKIIGGFAVSHTPTIAFAHDANKYDDPVWAPIFQGFEPVKQWLAEQ...  \n",
       "13183   QCVNLTTRTQLPPAYTNSFTRGVYYPDKVFRSSVLHSTQDLFLPFF...  \n",
       "43399   APLGPFNATLLEQLKNDYQKGEKEVTRYIELQEKVAEKYIKMTPLS...  \n",
       "\n",
       "[50000 rows x 3 columns]"
      ]
     },
     "execution_count": 55,
     "metadata": {},
     "output_type": "execute_result"
    }
   ],
   "source": [
    "small_df = df.sample(50_000)\n",
    "small_df"
   ]
  },
  {
   "cell_type": "code",
   "execution_count": 79,
   "metadata": {
    "tags": []
   },
   "outputs": [
    {
     "data": {
      "text/html": [
       "<div>\n",
       "<style scoped>\n",
       "    .dataframe tbody tr th:only-of-type {\n",
       "        vertical-align: middle;\n",
       "    }\n",
       "\n",
       "    .dataframe tbody tr th {\n",
       "        vertical-align: top;\n",
       "    }\n",
       "\n",
       "    .dataframe thead th {\n",
       "        text-align: right;\n",
       "    }\n",
       "</style>\n",
       "<table border=\"1\" class=\"dataframe\">\n",
       "  <thead>\n",
       "    <tr style=\"text-align: right;\">\n",
       "      <th></th>\n",
       "      <th>name</th>\n",
       "      <th>3Di</th>\n",
       "    </tr>\n",
       "  </thead>\n",
       "  <tbody>\n",
       "    <tr>\n",
       "      <th>0</th>\n",
       "      <td>Gh_comp10207_c0_seq2.pdb</td>\n",
       "      <td>DWFQVLCVPHDQQLFWFWQDDPDDPVPTDTWGFPDKDADPQWDDCV...</td>\n",
       "    </tr>\n",
       "    <tr>\n",
       "      <th>1</th>\n",
       "      <td>Gh_comp1045_c0_seq1.pdb</td>\n",
       "      <td>DLQLQQDAQVVLLVVLVADLQQWAAPVSLVVQCVVAPWQAADDDDD...</td>\n",
       "    </tr>\n",
       "    <tr>\n",
       "      <th>2</th>\n",
       "      <td>Gh_comp10466_c0_seq1.pdb</td>\n",
       "      <td>DVVVVVVDDLVRNLVVVVVCCVVVVVVLVVPDDDDPLVVVVVVVVV...</td>\n",
       "    </tr>\n",
       "    <tr>\n",
       "      <th>3</th>\n",
       "      <td>Gh_comp1063_c0_seq1.pdb</td>\n",
       "      <td>DQFDFPVQLLPDPDPVSLVVSDDPPGDFDPDFFFAEEEEAAPQQQA...</td>\n",
       "    </tr>\n",
       "    <tr>\n",
       "      <th>4</th>\n",
       "      <td>Gh_comp1068_c0_seq5.pdb</td>\n",
       "      <td>DPPPDPDPPDQPDQDLQFDDDPVVLVVLLPDDDDQVFWWWAADPFQ...</td>\n",
       "    </tr>\n",
       "    <tr>\n",
       "      <th>...</th>\n",
       "      <td>...</td>\n",
       "      <td>...</td>\n",
       "    </tr>\n",
       "    <tr>\n",
       "      <th>381</th>\n",
       "      <td>Lh14_comp82_c1_seq1.pdb</td>\n",
       "      <td>DVVVVVVVVVVVVVLCVQAVQDPVLLVVLVVLLVVLLVVLLVVQPP...</td>\n",
       "    </tr>\n",
       "    <tr>\n",
       "      <th>382</th>\n",
       "      <td>Lh14_comp82_c1_seq3.pdb</td>\n",
       "      <td>DVPPLVPPDPPDDDDDDQPADDPVLLVLLVVLLVCLLVVLCVQCVP...</td>\n",
       "    </tr>\n",
       "    <tr>\n",
       "      <th>383</th>\n",
       "      <td>Lh14_comp835_c0_seq1.pdb</td>\n",
       "      <td>DDFFDFDDQDWFQWLVGIDGCLVVLAQAKEKEWEAFDFPDDLVLVQ...</td>\n",
       "    </tr>\n",
       "    <tr>\n",
       "      <th>384</th>\n",
       "      <td>Lh14_comp862_c0_seq1.pdb</td>\n",
       "      <td>DPPPVVVVVVVVVVVVVVLVVVQVVVVVAPPPDDDDDDDDDDDDDD...</td>\n",
       "    </tr>\n",
       "    <tr>\n",
       "      <th>385</th>\n",
       "      <td>Lh14_comp918_c0_seq1.pdb</td>\n",
       "      <td>DDDDPVVVVVVVVVVVVVVVVVVVVVVVVVVVVVVVVVVVVVVVVC...</td>\n",
       "    </tr>\n",
       "  </tbody>\n",
       "</table>\n",
       "<p>386 rows × 2 columns</p>\n",
       "</div>"
      ],
      "text/plain": [
       "                         name  \\\n",
       "0    Gh_comp10207_c0_seq2.pdb   \n",
       "1     Gh_comp1045_c0_seq1.pdb   \n",
       "2    Gh_comp10466_c0_seq1.pdb   \n",
       "3     Gh_comp1063_c0_seq1.pdb   \n",
       "4     Gh_comp1068_c0_seq5.pdb   \n",
       "..                        ...   \n",
       "381   Lh14_comp82_c1_seq1.pdb   \n",
       "382   Lh14_comp82_c1_seq3.pdb   \n",
       "383  Lh14_comp835_c0_seq1.pdb   \n",
       "384  Lh14_comp862_c0_seq1.pdb   \n",
       "385  Lh14_comp918_c0_seq1.pdb   \n",
       "\n",
       "                                                   3Di  \n",
       "0    DWFQVLCVPHDQQLFWFWQDDPDDPVPTDTWGFPDKDADPQWDDCV...  \n",
       "1    DLQLQQDAQVVLLVVLVADLQQWAAPVSLVVQCVVAPWQAADDDDD...  \n",
       "2    DVVVVVVDDLVRNLVVVVVCCVVVVVVLVVPDDDDPLVVVVVVVVV...  \n",
       "3    DQFDFPVQLLPDPDPVSLVVSDDPPGDFDPDFFFAEEEEAAPQQQA...  \n",
       "4    DPPPDPDPPDQPDQDLQFDDDPVVLVVLLPDDDDQVFWWWAADPFQ...  \n",
       "..                                                 ...  \n",
       "381  DVVVVVVVVVVVVVLCVQAVQDPVLLVVLVVLLVVLLVVLLVVQPP...  \n",
       "382  DVPPLVPPDPPDDDDDDQPADDPVLLVLLVVLLVCLLVVLCVQCVP...  \n",
       "383  DDFFDFDDQDWFQWLVGIDGCLVVLAQAKEKEWEAFDFPDDLVLVQ...  \n",
       "384  DPPPVVVVVVVVVVVVVVLVVVQVVVVVAPPPDDDDDDDDDDDDDD...  \n",
       "385  DDDDPVVVVVVVVVVVVVVVVVVVVVVVVVVVVVVVVVVVVVVVVC...  \n",
       "\n",
       "[386 rows x 2 columns]"
      ]
     },
     "execution_count": 79,
     "metadata": {},
     "output_type": "execute_result"
    }
   ],
   "source": [
    "dfvenome = pd.read_csv(\"./data-venome.csv\")\n",
    "dfvenome"
   ]
  },
  {
   "cell_type": "code",
   "execution_count": 57,
   "metadata": {
    "tags": []
   },
   "outputs": [],
   "source": [
    "combined = pd.concat((dfvenome, small_df[[\"name\", \"3Di\"]]))"
   ]
  },
  {
   "cell_type": "code",
   "execution_count": 60,
   "metadata": {
    "tags": []
   },
   "outputs": [
    {
     "name": "stdout",
     "output_type": "stream",
     "text": [
      "pdb8bdq.ent.gz_A\t50385_A\t50379\r"
     ]
    }
   ],
   "source": [
    "def to_avg_embedding(df):\n",
    "    with torch.no_grad():\n",
    "        res = torch.zeros((len(df[\"3Di\"]), 128))\n",
    "        for i, (repr, name) in enumerate(zip(df[\"3Di\"], df[\"name\"])):\n",
    "            seq = torch.tensor([dp.encode(repr)], dtype=torch.long, device=device)\n",
    "            embeddings = model.seq_embeddings(seq).detach().cpu()\n",
    "            if len(embeddings.shape) > 1:\n",
    "                embeddings = embeddings.mean(0)\n",
    "            res[i, :] = embeddings\n",
    "            print(name + \"\\t\" + str(i), end=\"\\r\")\n",
    "        return res\n",
    "res = to_avg_embedding(combined)"
   ]
  },
  {
   "cell_type": "code",
   "execution_count": 42,
   "metadata": {
    "tags": []
   },
   "outputs": [
    {
     "name": "stdout",
     "output_type": "stream",
     "text": [
      "pdb5hok.ent.gz_A\t99991_A\t9984\r"
     ]
    }
   ],
   "source": [
    "def to_embeddings(df):\n",
    "    with torch.no_grad():\n",
    "        res = []\n",
    "        names = []\n",
    "        for i, (repr, name) in enumerate(zip(df[\"3Di\"], df[\"name\"])):\n",
    "            seq = torch.tensor([dp.encode(repr)], dtype=torch.long, device=device)\n",
    "            embeddings = model.seq_embeddings(seq).detach().cpu()\n",
    "            if len(embeddings.shape) == 1:\n",
    "                embeddings = embeddings.reshape(1, 128)\n",
    "            res.extend(embeddings.tolist())\n",
    "            names.extend([name]*embeddings.shape[0])\n",
    "            \n",
    "            print(name + \"\\t\" + str(i), end=\"\\r\")\n",
    "        return res, names\n",
    "# res, names = to_embeddings(small_df)"
   ]
  },
  {
   "cell_type": "code",
   "execution_count": 77,
   "metadata": {
    "tags": []
   },
   "outputs": [
    {
     "data": {
      "text/plain": [
       "<matplotlib.collections.PathCollection at 0x7f1bffee2250>"
      ]
     },
     "execution_count": 77,
     "metadata": {},
     "output_type": "execute_result"
    },
    {
     "data": {
      "image/png": "[encoded data removed]",
      "text/plain": [
       "<Figure size 640x480 with 1 Axes>"
      ]
     },
     "metadata": {},
     "output_type": "display_data"
    }
   ],
   "source": [
    "import matplotlib.pyplot as plt\n",
    "import umap\n",
    "\n",
    "mapper = umap.UMAP(n_neighbors=32)\n",
    "embed2D = mapper.fit_transform(res)\n",
    "plt.scatter(embed2D[:, 0], embed2D[:, 1])"
   ]
  },
  {
   "cell_type": "code",
   "execution_count": 78,
   "metadata": {},
   "outputs": [],
   "source": [
    "pd.DataFrame({\"x\": embed2D[:, 0], \"y\": embed2D[:, 1], \"name\": combined[\"name\"]}).to_parquet(\"embed2D-venome.parquet\")"
   ]
  },
  {
   "cell_type": "code",
   "execution_count": null,
   "metadata": {},
   "outputs": [],
   "source": []
  }
 ],
 "metadata": {
  "kernelspec": {
   "display_name": "Python 3 (ipykernel)",
   "language": "python",
   "name": "python3"
  },
  "language_info": {
   "codemirror_mode": {
    "name": "ipython",
    "version": 3
   },
   "file_extension": ".py",
   "mimetype": "text/x-python",
   "name": "python",
   "nbconvert_exporter": "python",
   "pygments_lexer": "ipython3",
   "version": "3.11.7"
  }
 },
 "nbformat": 4,
 "nbformat_minor": 4
}
