{
 "cells": [
  {
   "cell_type": "code",
   "execution_count": 9,
   "metadata": {},
   "outputs": [],
   "source": [
    "import torch\n",
    "import torch.nn as nn\n",
    "from torch.nn import functional as F"
   ]
  },
  {
   "cell_type": "code",
   "execution_count": 20,
   "metadata": {},
   "outputs": [],
   "source": [
    "import pandas as pd\n",
    "import data_process as dp\n",
    "\n",
    "dp.pdb_to_3Di_csv(\"../data\", \"./data.csv\")\n",
    "df = pd.read_csv(\"./data.csv\")"
   ]
  },
  {
   "cell_type": "code",
   "execution_count": 21,
   "metadata": {},
   "outputs": [
    {
     "data": {
      "text/plain": [
       "(['[DDDDDDDDDDDDDDPDPPDDPDDDPPPPDDVPPDPPPPPPVPPPVVPPPVPPPPDDPDDDDDDDDDDDDDDDDDDDDDDPPDPPPVVVVVVVVVVPPPPPPPPPPPPPPPDDPVNVVVVVVQQVVCVVVVHDSPPSVVVVVVVVVVVPPPPPPPPPPDDDDD]',\n",
       "  '[DVVVVVVVVVVVVVVVVVPDPPPPPPPVVPPPPPPPPDDPPPPPPPDDDPPPPPDDDDDDPPDDDDPDDDDDDDDDPPDPPDDPPPPPPPPPPDPPPPDDDPDD]',\n",
       "  '[DDDDDDDDPPDPVPDDLWDDPVVVVVLVVQLVVLCVVLVDDPVQLVVVLVVDHDLPDLSVLSSLLSSCVVQPQADPQLAGDLVSQLVPDRSSADSVLSNVLCVVLRPDDDPGSSNSSSSSVNSVSVSVRDNSSD]'],\n",
       " ['[DDDDDDDDDDDDDDDDDDDDDDDDDDDDDDDDDDDDDDDDDDDDDDDDDDDDDDDDPDDPDPPVVVVVVLCCVLPVDDDDDDDDDDDPPDPPPPPPPPPDLLVNVLVLLVSVLVVLVVCLVVLVPDPPVVVVVVVVVSLVVVLVSLVVLDPPDDPDPPDPPPLCVQQVVLVVQLLVLVVLCLPPDPCNSVSSVSNSVSSVSNSVSVNPDDDDSPVVVVVVVVSVVVVVCSVVVPPPPPPDDDDPDDDD]'])"
      ]
     },
     "execution_count": 21,
     "metadata": {},
     "output_type": "execute_result"
    }
   ],
   "source": [
    "x, y = dp.get_train_val_split(df[\"3Di\"].tolist(), ratio=0.9)\n",
    "x, y"
   ]
  },
  {
   "cell_type": "code",
   "execution_count": null,
   "metadata": {},
   "outputs": [],
   "source": []
  }
 ],
 "metadata": {
  "kernelspec": {
   "display_name": "Python 3",
   "language": "python",
   "name": "python3"
  },
  "language_info": {
   "codemirror_mode": {
    "name": "ipython",
    "version": 3
   },
   "file_extension": ".py",
   "mimetype": "text/x-python",
   "name": "python",
   "nbconvert_exporter": "python",
   "pygments_lexer": "ipython3",
   "version": "3.11.7"
  }
 },
 "nbformat": 4,
 "nbformat_minor": 2
}
